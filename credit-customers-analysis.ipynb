{
 "cells": [
  {
   "cell_type": "markdown",
   "metadata": {},
   "source": [
    "***\n",
    "# <center><font color=blue size=8>Analysis on credit card customers</font></center>"
   ]
  },
  {
   "cell_type": "markdown",
   "metadata": {},
   "source": [
    "<center><img alt=\"\" src=\"https://drive.google.com/uc?id=1ZS3uX2vn82mgIz_VsvdvlM1QYftPfDXt&export=download\" align=\"center\" hspace=\"10px\" vspace=\"10px\" width=\"900\" height=\"1100\" ></center>"
   ]
  },
  {
   "cell_type": "markdown",
   "metadata": {},
   "source": [
    "***"
   ]
  },
  {
   "cell_type": "markdown",
   "metadata": {
    "heading_collapsed": true
   },
   "source": [
    "## <font color=blue>Introduction</font>\n",
    "***"
   ]
  },
  {
   "cell_type": "markdown",
   "metadata": {
    "hidden": true
   },
   "source": [
    "Credit cards are a popular way of payment in modern society. Being a flexible way of payment, where you can store money or use borrowed funds from a financial institution, when you use credit cards you don't need to carry physical money. There is also different types of cards, which with its own benefits, like discounts, cash back, protection agains frauds and others.\n",
    "\n",
    "This EDA(Exploratory Data Analysis) project tries to analyze and get a glimpse on credit cards users. The dataset comes from a public dataset on Kaggle, from the user Sakshi Goyal. The dataset contains customer age, gender, schooling, income category, and others. \n",
    "\n",
    "Using data analysis techniques, we will clean, explore and do inferences in the dataset to get a general understanding of the demographics informations of customers in our data.  "
   ]
  },
  {
   "cell_type": "markdown",
   "metadata": {
    "heading_collapsed": true,
    "hidden": true
   },
   "source": [
    "### <font color=blue>Importing and installing packages</font>\n",
    "***"
   ]
  },
  {
   "cell_type": "markdown",
   "metadata": {
    "hidden": true
   },
   "source": [
    "Let's begin by importing those following libraries for our analysis:\n",
    "- Pandas\n",
    "- Numpy\n",
    "- Seaborn\n",
    "- Matplotlib"
   ]
  },
  {
   "cell_type": "code",
   "execution_count": 1,
   "metadata": {
    "hidden": true
   },
   "outputs": [],
   "source": [
    "import pandas as pd\n",
    "import numpy as np\n",
    "import seaborn as sns\n",
    "import matplotlib\n",
    "import matplotlib.pyplot as plt\n",
    "%matplotlib inline"
   ]
  },
  {
   "cell_type": "markdown",
   "metadata": {
    "hidden": true
   },
   "source": [
    "We will also install and import the `opendatasets` that is a Python library for downloading datasets from online sources."
   ]
  },
  {
   "cell_type": "code",
   "execution_count": 2,
   "metadata": {
    "hidden": true
   },
   "outputs": [
    {
     "name": "stdout",
     "output_type": "stream",
     "text": [
      "Collecting opendatasets\n",
      "  Downloading opendatasets-0.1.22-py3-none-any.whl (15 kB)\n",
      "Requirement already satisfied: tqdm in /opt/conda/lib/python3.9/site-packages (from opendatasets) (4.62.3)\n",
      "Requirement already satisfied: click in /opt/conda/lib/python3.9/site-packages (from opendatasets) (8.0.3)\n",
      "Collecting kaggle\n",
      "  Downloading kaggle-1.5.12.tar.gz (58 kB)\n",
      "     |████████████████████████████████| 58 kB 4.4 MB/s             \n",
      "\u001b[?25h  Preparing metadata (setup.py) ... \u001b[?25ldone\n",
      "\u001b[?25hRequirement already satisfied: six>=1.10 in /opt/conda/lib/python3.9/site-packages (from kaggle->opendatasets) (1.16.0)\n",
      "Requirement already satisfied: certifi in /opt/conda/lib/python3.9/site-packages (from kaggle->opendatasets) (2021.10.8)\n",
      "Requirement already satisfied: python-dateutil in /opt/conda/lib/python3.9/site-packages (from kaggle->opendatasets) (2.8.2)\n",
      "Requirement already satisfied: requests in /opt/conda/lib/python3.9/site-packages (from kaggle->opendatasets) (2.26.0)\n",
      "Collecting python-slugify\n",
      "  Downloading python_slugify-8.0.0-py2.py3-none-any.whl (9.5 kB)\n",
      "Requirement already satisfied: urllib3 in /opt/conda/lib/python3.9/site-packages (from kaggle->opendatasets) (1.26.7)\n",
      "Collecting text-unidecode>=1.3\n",
      "  Downloading text_unidecode-1.3-py2.py3-none-any.whl (78 kB)\n",
      "     |████████████████████████████████| 78 kB 3.1 MB/s             \n",
      "\u001b[?25hRequirement already satisfied: charset-normalizer~=2.0.0 in /opt/conda/lib/python3.9/site-packages (from requests->kaggle->opendatasets) (2.0.0)\n",
      "Requirement already satisfied: idna<4,>=2.5 in /opt/conda/lib/python3.9/site-packages (from requests->kaggle->opendatasets) (3.1)\n",
      "Building wheels for collected packages: kaggle\n",
      "  Building wheel for kaggle (setup.py) ... \u001b[?25ldone\n",
      "\u001b[?25h  Created wheel for kaggle: filename=kaggle-1.5.12-py3-none-any.whl size=73051 sha256=b8fce793bc59177be8585bf5229d7279d3ab2e43eabc2aa8596fbbfb6ddf685e\n",
      "  Stored in directory: /home/jovyan/.cache/pip/wheels/ac/b2/c3/fa4706d469b5879105991d1c8be9a3c2ef329ba9fe2ce5085e\n",
      "Successfully built kaggle\n",
      "Installing collected packages: text-unidecode, python-slugify, kaggle, opendatasets\n",
      "Successfully installed kaggle-1.5.12 opendatasets-0.1.22 python-slugify-8.0.0 text-unidecode-1.3\n",
      "Note: you may need to restart the kernel to use updated packages.\n"
     ]
    }
   ],
   "source": [
    "pip install opendatasets --upgrade"
   ]
  },
  {
   "cell_type": "code",
   "execution_count": 3,
   "metadata": {
    "hidden": true
   },
   "outputs": [],
   "source": [
    "import opendatasets as od"
   ]
  },
  {
   "cell_type": "markdown",
   "metadata": {
    "hidden": true
   },
   "source": [
    "Let's download our dataset from Kaggle, to replicate this you need to create an API token in the [Kaggle Website](https://www.kaggle.com/) to have a username and Key to download any of their datasets."
   ]
  },
  {
   "cell_type": "code",
   "execution_count": 4,
   "metadata": {
    "hidden": true
   },
   "outputs": [
    {
     "name": "stdout",
     "output_type": "stream",
     "text": [
      "Please provide your Kaggle credentials to download this dataset. Learn more: http://bit.ly/kaggle-creds\n",
      "Your Kaggle username: detectiveedogawa\n",
      "Your Kaggle Key: ········\n",
      "Downloading credit-card-customers.zip to ./credit-card-customers\n"
     ]
    },
    {
     "name": "stderr",
     "output_type": "stream",
     "text": [
      "100%|██████████| 379k/379k [00:00<00:00, 98.2MB/s]"
     ]
    },
    {
     "name": "stdout",
     "output_type": "stream",
     "text": [
      "\n"
     ]
    },
    {
     "name": "stderr",
     "output_type": "stream",
     "text": [
      "\n"
     ]
    }
   ],
   "source": [
    "od.download('https://www.kaggle.com/datasets/sakshigoyal7/credit-card-customers')"
   ]
  },
  {
   "cell_type": "markdown",
   "metadata": {
    "hidden": true
   },
   "source": [
    "Importing the `os` library to manipulate our files we can check if the file has been downloaded."
   ]
  },
  {
   "cell_type": "code",
   "execution_count": 5,
   "metadata": {
    "hidden": true
   },
   "outputs": [
    {
     "data": {
      "text/plain": [
       "['BankChurners.csv']"
      ]
     },
     "execution_count": 5,
     "metadata": {},
     "output_type": "execute_result"
    }
   ],
   "source": [
    "import os\n",
    "os.listdir('credit-card-customers/')"
   ]
  },
  {
   "cell_type": "markdown",
   "metadata": {
    "hidden": true
   },
   "source": [
    "### <font color=blue>Loading the dataset</font>\n",
    "***"
   ]
  },
  {
   "cell_type": "markdown",
   "metadata": {
    "hidden": true
   },
   "source": [
    "Now we will read our csv and convert to a pandas `DataFrame` type variable"
   ]
  },
  {
   "cell_type": "code",
   "execution_count": 6,
   "metadata": {
    "hidden": true
   },
   "outputs": [],
   "source": [
    "credit_card_customers_df = pd.read_csv('credit-card-customers/BankChurners.csv')"
   ]
  },
  {
   "cell_type": "markdown",
   "metadata": {
    "heading_collapsed": true
   },
   "source": [
    "## <font color=blue>Data Preparation and Cleaning</font>\n",
    "***"
   ]
  },
  {
   "cell_type": "markdown",
   "metadata": {
    "hidden": true
   },
   "source": [
    "Preparing and cleaning data is important in any EDA project, because it ensures the data accuracy and consistency, and you can also select the data that you will work with. With a good preparation in the data we can get better insights that can improve our analysis and decision making based on the dataset.\n"
   ]
  },
  {
   "cell_type": "markdown",
   "metadata": {
    "hidden": true
   },
   "source": [
    "### <font color=blue>Selecting Columns and Removing Duplicates</font>"
   ]
  },
  {
   "cell_type": "markdown",
   "metadata": {
    "hidden": true
   },
   "source": [
    "To prepare our data for further analysis we will explore superficially the dataset, searching for invalid data and performing any necessary additional steps like parsing, adding and removing columns, getting general information and descriptions about the data."
   ]
  },
  {
   "cell_type": "markdown",
   "metadata": {
    "hidden": true
   },
   "source": [
    "There are two columns that are not useful to our analysis, the two last ones, so we will start by removing them from our dataset."
   ]
  },
  {
   "cell_type": "code",
   "execution_count": 7,
   "metadata": {
    "hidden": true
   },
   "outputs": [],
   "source": [
    "credit_card_customers_df.drop('Naive_Bayes_Classifier_Attrition_Flag_Card_Category_Contacts_Count_12_mon_Dependent_count_Education_Level_Months_Inactive_12_mon_1', \n",
    "                    axis = 'columns', \n",
    "                    inplace = True)\n",
    "credit_card_customers_df.drop('Naive_Bayes_Classifier_Attrition_Flag_Card_Category_Contacts_Count_12_mon_Dependent_count_Education_Level_Months_Inactive_12_mon_2', \n",
    "                    axis = 'columns', \n",
    "                    inplace = True)"
   ]
  },
  {
   "cell_type": "markdown",
   "metadata": {
    "hidden": true
   },
   "source": [
    "Now we will start to look more carefully in the remaining DataFrame, first using the pandas method `info`, that gives general information about the columns."
   ]
  },
  {
   "cell_type": "code",
   "execution_count": 77,
   "metadata": {
    "hidden": true,
    "scrolled": false
   },
   "outputs": [
    {
     "name": "stdout",
     "output_type": "stream",
     "text": [
      "<class 'pandas.core.frame.DataFrame'>\n",
      "RangeIndex: 10127 entries, 0 to 10126\n",
      "Data columns (total 21 columns):\n",
      " #   Column                    Non-Null Count  Dtype  \n",
      "---  ------                    --------------  -----  \n",
      " 0   CLIENTNUM                 10127 non-null  int64  \n",
      " 1   Attrition_Flag            10127 non-null  object \n",
      " 2   Customer_Age              10127 non-null  int64  \n",
      " 3   Gender                    10127 non-null  object \n",
      " 4   Dependent_count           10127 non-null  int64  \n",
      " 5   Education_Level           10127 non-null  object \n",
      " 6   Marital_Status            10127 non-null  object \n",
      " 7   Income_Category           10127 non-null  object \n",
      " 8   Card_Category             10127 non-null  object \n",
      " 9   Months_on_book            10127 non-null  int64  \n",
      " 10  Total_Relationship_Count  10127 non-null  int64  \n",
      " 11  Months_Inactive_12_mon    10127 non-null  int64  \n",
      " 12  Contacts_Count_12_mon     10127 non-null  int64  \n",
      " 13  Credit_Limit              10127 non-null  float64\n",
      " 14  Total_Revolving_Bal       10127 non-null  int64  \n",
      " 15  Avg_Open_To_Buy           10127 non-null  float64\n",
      " 16  Total_Amt_Chng_Q4_Q1      10127 non-null  float64\n",
      " 17  Total_Trans_Amt           10127 non-null  int64  \n",
      " 18  Total_Trans_Ct            10127 non-null  int64  \n",
      " 19  Total_Ct_Chng_Q4_Q1       10127 non-null  float64\n",
      " 20  Avg_Utilization_Ratio     10127 non-null  float64\n",
      "dtypes: float64(5), int64(10), object(6)\n",
      "memory usage: 1.6+ MB\n"
     ]
    }
   ],
   "source": [
    "credit_card_customers_df.info()"
   ]
  },
  {
   "cell_type": "markdown",
   "metadata": {
    "hidden": true
   },
   "source": [
    "We can see that there is still a lot of columns in our dataframe, what we want in this EDA is to get a better understanding on the people that uses credit cards from this dataset, so we will discard a few columns to match this specific analysis.\n",
    "We will get into a data frame structure only the columns that we will use, that are the following: \n",
    "- Customer_Age \n",
    "- Gender\n",
    "- Dependent_count\n",
    "- Education_Level\n",
    "- Marital_Status\n",
    "- Income_Category\n",
    "- Card_Category\n",
    "- Months_on_book\n",
    "- Credit_Limit"
   ]
  },
  {
   "cell_type": "code",
   "execution_count": 8,
   "metadata": {
    "hidden": true
   },
   "outputs": [],
   "source": [
    "customers_df = credit_card_customers_df[['Customer_Age', \n",
    "                                                'Gender', \n",
    "                                                'Dependent_count', \n",
    "                                                'Education_Level', \n",
    "                                                'Marital_Status', \n",
    "                                                'Income_Category', \n",
    "                                                'Card_Category', \n",
    "                                                'Months_on_book', \n",
    "                                                'Credit_Limit']]"
   ]
  },
  {
   "cell_type": "markdown",
   "metadata": {
    "hidden": true
   },
   "source": [
    "Now we will check for duplicates within the original data frame to make sure we are not letting pass anything"
   ]
  },
  {
   "cell_type": "code",
   "execution_count": 19,
   "metadata": {
    "hidden": true
   },
   "outputs": [
    {
     "data": {
      "text/plain": [
       "False    10127\n",
       "dtype: int64"
      ]
     },
     "execution_count": 19,
     "metadata": {},
     "output_type": "execute_result"
    }
   ],
   "source": [
    "credit_card_customers_df.duplicated().value_counts()"
   ]
  },
  {
   "cell_type": "code",
   "execution_count": 20,
   "metadata": {
    "hidden": true
   },
   "outputs": [
    {
     "data": {
      "text/plain": [
       "False    10126\n",
       "True         1\n",
       "dtype: int64"
      ]
     },
     "execution_count": 20,
     "metadata": {},
     "output_type": "execute_result"
    }
   ],
   "source": [
    "customers_df.duplicated().value_counts()"
   ]
  },
  {
   "cell_type": "markdown",
   "metadata": {
    "hidden": true
   },
   "source": [
    "There is one duplicate in the new data frame that we are using, but there is none on the original data frame, so it's probably a coincidence of values, let's check what row is it. With the *keep* parameter we can see both equal rows."
   ]
  },
  {
   "cell_type": "code",
   "execution_count": 21,
   "metadata": {
    "hidden": true,
    "scrolled": true
   },
   "outputs": [
    {
     "data": {
      "text/html": [
       "<div>\n",
       "<style scoped>\n",
       "    .dataframe tbody tr th:only-of-type {\n",
       "        vertical-align: middle;\n",
       "    }\n",
       "\n",
       "    .dataframe tbody tr th {\n",
       "        vertical-align: top;\n",
       "    }\n",
       "\n",
       "    .dataframe thead th {\n",
       "        text-align: right;\n",
       "    }\n",
       "</style>\n",
       "<table border=\"1\" class=\"dataframe\">\n",
       "  <thead>\n",
       "    <tr style=\"text-align: right;\">\n",
       "      <th></th>\n",
       "      <th>Customer_Age</th>\n",
       "      <th>Gender</th>\n",
       "      <th>Dependent_count</th>\n",
       "      <th>Education_Level</th>\n",
       "      <th>Marital_Status</th>\n",
       "      <th>Income_Category</th>\n",
       "      <th>Card_Category</th>\n",
       "      <th>Months_on_book</th>\n",
       "      <th>Credit_Limit</th>\n",
       "    </tr>\n",
       "  </thead>\n",
       "  <tbody>\n",
       "    <tr>\n",
       "      <th>1746</th>\n",
       "      <td>26</td>\n",
       "      <td>F</td>\n",
       "      <td>0</td>\n",
       "      <td>Uneducated</td>\n",
       "      <td>Single</td>\n",
       "      <td>Less than $40K</td>\n",
       "      <td>Blue</td>\n",
       "      <td>20</td>\n",
       "      <td>1438.3</td>\n",
       "    </tr>\n",
       "    <tr>\n",
       "      <th>1752</th>\n",
       "      <td>26</td>\n",
       "      <td>F</td>\n",
       "      <td>0</td>\n",
       "      <td>Uneducated</td>\n",
       "      <td>Single</td>\n",
       "      <td>Less than $40K</td>\n",
       "      <td>Blue</td>\n",
       "      <td>20</td>\n",
       "      <td>1438.3</td>\n",
       "    </tr>\n",
       "  </tbody>\n",
       "</table>\n",
       "</div>"
      ],
      "text/plain": [
       "      Customer_Age Gender  Dependent_count Education_Level Marital_Status  \\\n",
       "1746            26      F                0      Uneducated         Single   \n",
       "1752            26      F                0      Uneducated         Single   \n",
       "\n",
       "     Income_Category Card_Category  Months_on_book  Credit_Limit  \n",
       "1746  Less than $40K          Blue              20        1438.3  \n",
       "1752  Less than $40K          Blue              20        1438.3  "
      ]
     },
     "execution_count": 21,
     "metadata": {},
     "output_type": "execute_result"
    }
   ],
   "source": [
    "customers_df[customers_df.duplicated(keep = False)]"
   ]
  },
  {
   "cell_type": "markdown",
   "metadata": {
    "hidden": true
   },
   "source": [
    "Let's check those two rows in the original data frame with the method loc."
   ]
  },
  {
   "cell_type": "code",
   "execution_count": 22,
   "metadata": {
    "hidden": true
   },
   "outputs": [
    {
     "data": {
      "text/html": [
       "<div>\n",
       "<style scoped>\n",
       "    .dataframe tbody tr th:only-of-type {\n",
       "        vertical-align: middle;\n",
       "    }\n",
       "\n",
       "    .dataframe tbody tr th {\n",
       "        vertical-align: top;\n",
       "    }\n",
       "\n",
       "    .dataframe thead th {\n",
       "        text-align: right;\n",
       "    }\n",
       "</style>\n",
       "<table border=\"1\" class=\"dataframe\">\n",
       "  <thead>\n",
       "    <tr style=\"text-align: right;\">\n",
       "      <th></th>\n",
       "      <th>CLIENTNUM</th>\n",
       "      <th>Attrition_Flag</th>\n",
       "      <th>Customer_Age</th>\n",
       "      <th>Gender</th>\n",
       "      <th>Dependent_count</th>\n",
       "      <th>Education_Level</th>\n",
       "      <th>Marital_Status</th>\n",
       "      <th>Income_Category</th>\n",
       "      <th>Card_Category</th>\n",
       "      <th>Months_on_book</th>\n",
       "      <th>...</th>\n",
       "      <th>Months_Inactive_12_mon</th>\n",
       "      <th>Contacts_Count_12_mon</th>\n",
       "      <th>Credit_Limit</th>\n",
       "      <th>Total_Revolving_Bal</th>\n",
       "      <th>Avg_Open_To_Buy</th>\n",
       "      <th>Total_Amt_Chng_Q4_Q1</th>\n",
       "      <th>Total_Trans_Amt</th>\n",
       "      <th>Total_Trans_Ct</th>\n",
       "      <th>Total_Ct_Chng_Q4_Q1</th>\n",
       "      <th>Avg_Utilization_Ratio</th>\n",
       "    </tr>\n",
       "  </thead>\n",
       "  <tbody>\n",
       "    <tr>\n",
       "      <th>1746</th>\n",
       "      <td>820288233</td>\n",
       "      <td>Existing Customer</td>\n",
       "      <td>26</td>\n",
       "      <td>F</td>\n",
       "      <td>0</td>\n",
       "      <td>Uneducated</td>\n",
       "      <td>Single</td>\n",
       "      <td>Less than $40K</td>\n",
       "      <td>Blue</td>\n",
       "      <td>20</td>\n",
       "      <td>...</td>\n",
       "      <td>3</td>\n",
       "      <td>4</td>\n",
       "      <td>1438.3</td>\n",
       "      <td>0</td>\n",
       "      <td>1438.3</td>\n",
       "      <td>0.764</td>\n",
       "      <td>2731</td>\n",
       "      <td>39</td>\n",
       "      <td>0.500</td>\n",
       "      <td>0.000</td>\n",
       "    </tr>\n",
       "    <tr>\n",
       "      <th>1747</th>\n",
       "      <td>717511533</td>\n",
       "      <td>Existing Customer</td>\n",
       "      <td>28</td>\n",
       "      <td>M</td>\n",
       "      <td>0</td>\n",
       "      <td>Graduate</td>\n",
       "      <td>Single</td>\n",
       "      <td>Less than $40K</td>\n",
       "      <td>Blue</td>\n",
       "      <td>36</td>\n",
       "      <td>...</td>\n",
       "      <td>2</td>\n",
       "      <td>4</td>\n",
       "      <td>1707.0</td>\n",
       "      <td>1191</td>\n",
       "      <td>516.0</td>\n",
       "      <td>0.669</td>\n",
       "      <td>2950</td>\n",
       "      <td>87</td>\n",
       "      <td>0.977</td>\n",
       "      <td>0.698</td>\n",
       "    </tr>\n",
       "    <tr>\n",
       "      <th>1748</th>\n",
       "      <td>711642108</td>\n",
       "      <td>Existing Customer</td>\n",
       "      <td>30</td>\n",
       "      <td>F</td>\n",
       "      <td>1</td>\n",
       "      <td>Uneducated</td>\n",
       "      <td>Married</td>\n",
       "      <td>Unknown</td>\n",
       "      <td>Blue</td>\n",
       "      <td>13</td>\n",
       "      <td>...</td>\n",
       "      <td>2</td>\n",
       "      <td>2</td>\n",
       "      <td>4016.0</td>\n",
       "      <td>917</td>\n",
       "      <td>3099.0</td>\n",
       "      <td>1.246</td>\n",
       "      <td>2572</td>\n",
       "      <td>35</td>\n",
       "      <td>0.591</td>\n",
       "      <td>0.228</td>\n",
       "    </tr>\n",
       "    <tr>\n",
       "      <th>1749</th>\n",
       "      <td>712495233</td>\n",
       "      <td>Existing Customer</td>\n",
       "      <td>31</td>\n",
       "      <td>F</td>\n",
       "      <td>0</td>\n",
       "      <td>Uneducated</td>\n",
       "      <td>Married</td>\n",
       "      <td>Less than $40K</td>\n",
       "      <td>Blue</td>\n",
       "      <td>19</td>\n",
       "      <td>...</td>\n",
       "      <td>3</td>\n",
       "      <td>2</td>\n",
       "      <td>2370.0</td>\n",
       "      <td>1699</td>\n",
       "      <td>671.0</td>\n",
       "      <td>0.889</td>\n",
       "      <td>2411</td>\n",
       "      <td>53</td>\n",
       "      <td>0.656</td>\n",
       "      <td>0.717</td>\n",
       "    </tr>\n",
       "    <tr>\n",
       "      <th>1750</th>\n",
       "      <td>718484283</td>\n",
       "      <td>Existing Customer</td>\n",
       "      <td>57</td>\n",
       "      <td>M</td>\n",
       "      <td>3</td>\n",
       "      <td>Post-Graduate</td>\n",
       "      <td>Married</td>\n",
       "      <td>$60K - $80K</td>\n",
       "      <td>Blue</td>\n",
       "      <td>36</td>\n",
       "      <td>...</td>\n",
       "      <td>1</td>\n",
       "      <td>4</td>\n",
       "      <td>3478.0</td>\n",
       "      <td>2517</td>\n",
       "      <td>961.0</td>\n",
       "      <td>0.685</td>\n",
       "      <td>1409</td>\n",
       "      <td>49</td>\n",
       "      <td>0.750</td>\n",
       "      <td>0.724</td>\n",
       "    </tr>\n",
       "    <tr>\n",
       "      <th>1751</th>\n",
       "      <td>717413658</td>\n",
       "      <td>Existing Customer</td>\n",
       "      <td>43</td>\n",
       "      <td>M</td>\n",
       "      <td>4</td>\n",
       "      <td>High School</td>\n",
       "      <td>Married</td>\n",
       "      <td>$40K - $60K</td>\n",
       "      <td>Blue</td>\n",
       "      <td>32</td>\n",
       "      <td>...</td>\n",
       "      <td>2</td>\n",
       "      <td>2</td>\n",
       "      <td>1539.0</td>\n",
       "      <td>989</td>\n",
       "      <td>550.0</td>\n",
       "      <td>0.860</td>\n",
       "      <td>1987</td>\n",
       "      <td>47</td>\n",
       "      <td>0.808</td>\n",
       "      <td>0.643</td>\n",
       "    </tr>\n",
       "    <tr>\n",
       "      <th>1752</th>\n",
       "      <td>804668658</td>\n",
       "      <td>Attrited Customer</td>\n",
       "      <td>26</td>\n",
       "      <td>F</td>\n",
       "      <td>0</td>\n",
       "      <td>Uneducated</td>\n",
       "      <td>Single</td>\n",
       "      <td>Less than $40K</td>\n",
       "      <td>Blue</td>\n",
       "      <td>20</td>\n",
       "      <td>...</td>\n",
       "      <td>2</td>\n",
       "      <td>4</td>\n",
       "      <td>1438.3</td>\n",
       "      <td>0</td>\n",
       "      <td>1438.3</td>\n",
       "      <td>0.506</td>\n",
       "      <td>947</td>\n",
       "      <td>20</td>\n",
       "      <td>0.053</td>\n",
       "      <td>0.000</td>\n",
       "    </tr>\n",
       "  </tbody>\n",
       "</table>\n",
       "<p>7 rows × 21 columns</p>\n",
       "</div>"
      ],
      "text/plain": [
       "      CLIENTNUM     Attrition_Flag  Customer_Age Gender  Dependent_count  \\\n",
       "1746  820288233  Existing Customer            26      F                0   \n",
       "1747  717511533  Existing Customer            28      M                0   \n",
       "1748  711642108  Existing Customer            30      F                1   \n",
       "1749  712495233  Existing Customer            31      F                0   \n",
       "1750  718484283  Existing Customer            57      M                3   \n",
       "1751  717413658  Existing Customer            43      M                4   \n",
       "1752  804668658  Attrited Customer            26      F                0   \n",
       "\n",
       "     Education_Level Marital_Status Income_Category Card_Category  \\\n",
       "1746      Uneducated         Single  Less than $40K          Blue   \n",
       "1747        Graduate         Single  Less than $40K          Blue   \n",
       "1748      Uneducated        Married         Unknown          Blue   \n",
       "1749      Uneducated        Married  Less than $40K          Blue   \n",
       "1750   Post-Graduate        Married     $60K - $80K          Blue   \n",
       "1751     High School        Married     $40K - $60K          Blue   \n",
       "1752      Uneducated         Single  Less than $40K          Blue   \n",
       "\n",
       "      Months_on_book  ...  Months_Inactive_12_mon  Contacts_Count_12_mon  \\\n",
       "1746              20  ...                       3                      4   \n",
       "1747              36  ...                       2                      4   \n",
       "1748              13  ...                       2                      2   \n",
       "1749              19  ...                       3                      2   \n",
       "1750              36  ...                       1                      4   \n",
       "1751              32  ...                       2                      2   \n",
       "1752              20  ...                       2                      4   \n",
       "\n",
       "      Credit_Limit  Total_Revolving_Bal  Avg_Open_To_Buy  \\\n",
       "1746        1438.3                    0           1438.3   \n",
       "1747        1707.0                 1191            516.0   \n",
       "1748        4016.0                  917           3099.0   \n",
       "1749        2370.0                 1699            671.0   \n",
       "1750        3478.0                 2517            961.0   \n",
       "1751        1539.0                  989            550.0   \n",
       "1752        1438.3                    0           1438.3   \n",
       "\n",
       "      Total_Amt_Chng_Q4_Q1  Total_Trans_Amt  Total_Trans_Ct  \\\n",
       "1746                 0.764             2731              39   \n",
       "1747                 0.669             2950              87   \n",
       "1748                 1.246             2572              35   \n",
       "1749                 0.889             2411              53   \n",
       "1750                 0.685             1409              49   \n",
       "1751                 0.860             1987              47   \n",
       "1752                 0.506              947              20   \n",
       "\n",
       "      Total_Ct_Chng_Q4_Q1  Avg_Utilization_Ratio  \n",
       "1746                0.500                  0.000  \n",
       "1747                0.977                  0.698  \n",
       "1748                0.591                  0.228  \n",
       "1749                0.656                  0.717  \n",
       "1750                0.750                  0.724  \n",
       "1751                0.808                  0.643  \n",
       "1752                0.053                  0.000  \n",
       "\n",
       "[7 rows x 21 columns]"
      ]
     },
     "execution_count": 22,
     "metadata": {},
     "output_type": "execute_result"
    }
   ],
   "source": [
    "credit_card_customers_df.loc[1746:1752]"
   ]
  },
  {
   "cell_type": "markdown",
   "metadata": {
    "hidden": true
   },
   "source": [
    "The columns we selected are equal but the others like *CLIENTNUM* and *Attrition_Flag* for example, are not equal, so they are not duplicates."
   ]
  },
  {
   "cell_type": "markdown",
   "metadata": {
    "hidden": true
   },
   "source": [
    "### <font color=blue>Searching for invalid values</font>"
   ]
  },
  {
   "cell_type": "markdown",
   "metadata": {
    "hidden": true
   },
   "source": [
    "From only using the .info() as parameter, it seems right to say that there are no empty values in our dataset, and this thinking could lead us to doing the wrong thing. As definition, a null value is something that is unknown or missing, so let's take a closer look and see if we can find values like `Missing`, `Unknown` or `Not Answered` for example, without being defined as null in our data."
   ]
  },
  {
   "cell_type": "code",
   "execution_count": 10,
   "metadata": {
    "hidden": true
   },
   "outputs": [
    {
     "data": {
      "text/html": [
       "<div>\n",
       "<style scoped>\n",
       "    .dataframe tbody tr th:only-of-type {\n",
       "        vertical-align: middle;\n",
       "    }\n",
       "\n",
       "    .dataframe tbody tr th {\n",
       "        vertical-align: top;\n",
       "    }\n",
       "\n",
       "    .dataframe thead th {\n",
       "        text-align: right;\n",
       "    }\n",
       "</style>\n",
       "<table border=\"1\" class=\"dataframe\">\n",
       "  <thead>\n",
       "    <tr style=\"text-align: right;\">\n",
       "      <th></th>\n",
       "      <th>Customer_Age</th>\n",
       "      <th>Gender</th>\n",
       "      <th>Dependent_count</th>\n",
       "      <th>Education_Level</th>\n",
       "      <th>Marital_Status</th>\n",
       "      <th>Income_Category</th>\n",
       "      <th>Card_Category</th>\n",
       "      <th>Months_on_book</th>\n",
       "      <th>Credit_Limit</th>\n",
       "    </tr>\n",
       "  </thead>\n",
       "  <tbody>\n",
       "    <tr>\n",
       "      <th>0</th>\n",
       "      <td>45</td>\n",
       "      <td>M</td>\n",
       "      <td>3</td>\n",
       "      <td>High School</td>\n",
       "      <td>Married</td>\n",
       "      <td>$60K - $80K</td>\n",
       "      <td>Blue</td>\n",
       "      <td>39</td>\n",
       "      <td>12691.0</td>\n",
       "    </tr>\n",
       "    <tr>\n",
       "      <th>1</th>\n",
       "      <td>49</td>\n",
       "      <td>F</td>\n",
       "      <td>5</td>\n",
       "      <td>Graduate</td>\n",
       "      <td>Single</td>\n",
       "      <td>Less than $40K</td>\n",
       "      <td>Blue</td>\n",
       "      <td>44</td>\n",
       "      <td>8256.0</td>\n",
       "    </tr>\n",
       "    <tr>\n",
       "      <th>2</th>\n",
       "      <td>51</td>\n",
       "      <td>M</td>\n",
       "      <td>3</td>\n",
       "      <td>Graduate</td>\n",
       "      <td>Married</td>\n",
       "      <td>$80K - $120K</td>\n",
       "      <td>Blue</td>\n",
       "      <td>36</td>\n",
       "      <td>3418.0</td>\n",
       "    </tr>\n",
       "    <tr>\n",
       "      <th>3</th>\n",
       "      <td>40</td>\n",
       "      <td>F</td>\n",
       "      <td>4</td>\n",
       "      <td>High School</td>\n",
       "      <td>Unknown</td>\n",
       "      <td>Less than $40K</td>\n",
       "      <td>Blue</td>\n",
       "      <td>34</td>\n",
       "      <td>3313.0</td>\n",
       "    </tr>\n",
       "    <tr>\n",
       "      <th>4</th>\n",
       "      <td>40</td>\n",
       "      <td>M</td>\n",
       "      <td>3</td>\n",
       "      <td>Uneducated</td>\n",
       "      <td>Married</td>\n",
       "      <td>$60K - $80K</td>\n",
       "      <td>Blue</td>\n",
       "      <td>21</td>\n",
       "      <td>4716.0</td>\n",
       "    </tr>\n",
       "  </tbody>\n",
       "</table>\n",
       "</div>"
      ],
      "text/plain": [
       "   Customer_Age Gender  Dependent_count Education_Level Marital_Status  \\\n",
       "0            45      M                3     High School        Married   \n",
       "1            49      F                5        Graduate         Single   \n",
       "2            51      M                3        Graduate        Married   \n",
       "3            40      F                4     High School        Unknown   \n",
       "4            40      M                3      Uneducated        Married   \n",
       "\n",
       "  Income_Category Card_Category  Months_on_book  Credit_Limit  \n",
       "0     $60K - $80K          Blue              39       12691.0  \n",
       "1  Less than $40K          Blue              44        8256.0  \n",
       "2    $80K - $120K          Blue              36        3418.0  \n",
       "3  Less than $40K          Blue              34        3313.0  \n",
       "4     $60K - $80K          Blue              21        4716.0  "
      ]
     },
     "execution_count": 10,
     "metadata": {},
     "output_type": "execute_result"
    }
   ],
   "source": [
    "customers_df.head()"
   ]
  },
  {
   "cell_type": "markdown",
   "metadata": {
    "hidden": true
   },
   "source": [
    "Using the method unique it is possible to discover each category to categorical variables, so let's check all our categorical columns, the ones that are from the type object."
   ]
  },
  {
   "cell_type": "code",
   "execution_count": 11,
   "metadata": {
    "hidden": true
   },
   "outputs": [
    {
     "name": "stdout",
     "output_type": "stream",
     "text": [
      "['M' 'F'] ['High School' 'Graduate' 'Uneducated' 'Unknown' 'College' 'Post-Graduate'\n",
      " 'Doctorate'] ['Married' 'Single' 'Unknown' 'Divorced'] ['$60K - $80K' 'Less than $40K' '$80K - $120K' '$40K - $60K' '$120K +'\n",
      " 'Unknown'] ['Blue' 'Gold' 'Silver' 'Platinum']\n"
     ]
    }
   ],
   "source": [
    "print(customers_df.Gender.unique(), \n",
    "      customers_df.Education_Level.unique(),\n",
    "      customers_df.Marital_Status.unique(),\n",
    "      customers_df.Income_Category.unique(),\n",
    "      customers_df.Card_Category.unique())"
   ]
  },
  {
   "cell_type": "markdown",
   "metadata": {
    "hidden": true
   },
   "source": [
    "From our 5 categorical attributes, 3 of them have the category `Unknown`, *Education_Level, Marital_Status* and *Income_Category*"
   ]
  },
  {
   "cell_type": "markdown",
   "metadata": {
    "hidden": true
   },
   "source": [
    "We will replace every `Unknown` by np.nan that will be converted to pandas `NaN` type, and with the info method we will be able to say how many null values there are in those columns"
   ]
  },
  {
   "cell_type": "code",
   "execution_count": 9,
   "metadata": {
    "hidden": true
   },
   "outputs": [],
   "source": [
    "customers_df = customers_df.apply(lambda x: x.replace({'Unknown': np.nan}, regex = True))"
   ]
  },
  {
   "cell_type": "code",
   "execution_count": 80,
   "metadata": {
    "hidden": true
   },
   "outputs": [
    {
     "name": "stdout",
     "output_type": "stream",
     "text": [
      "<class 'pandas.core.frame.DataFrame'>\n",
      "RangeIndex: 10127 entries, 0 to 10126\n",
      "Data columns (total 9 columns):\n",
      " #   Column           Non-Null Count  Dtype  \n",
      "---  ------           --------------  -----  \n",
      " 0   Customer_Age     10127 non-null  int64  \n",
      " 1   Gender           10127 non-null  object \n",
      " 2   Dependent_count  10127 non-null  int64  \n",
      " 3   Education_Level  8608 non-null   object \n",
      " 4   Marital_Status   9378 non-null   object \n",
      " 5   Income_Category  9015 non-null   object \n",
      " 6   Card_Category    10127 non-null  object \n",
      " 7   Months_on_book   10127 non-null  int64  \n",
      " 8   Credit_Limit     10127 non-null  float64\n",
      "dtypes: float64(1), int64(3), object(5)\n",
      "memory usage: 712.2+ KB\n"
     ]
    }
   ],
   "source": [
    "customers_df.info()"
   ]
  },
  {
   "cell_type": "markdown",
   "metadata": {
    "hidden": true
   },
   "source": [
    "With the `isnull` method we get a boolean dataframe, and with the `sum` method we obtain the total of `NaN` values for each column in our dataset."
   ]
  },
  {
   "cell_type": "code",
   "execution_count": 14,
   "metadata": {
    "hidden": true
   },
   "outputs": [
    {
     "data": {
      "text/plain": [
       "Customer_Age          0\n",
       "Gender                0\n",
       "Dependent_count       0\n",
       "Education_Level    1519\n",
       "Marital_Status      749\n",
       "Income_Category    1112\n",
       "Card_Category         0\n",
       "Months_on_book        0\n",
       "Credit_Limit          0\n",
       "dtype: int64"
      ]
     },
     "execution_count": 14,
     "metadata": {},
     "output_type": "execute_result"
    }
   ],
   "source": [
    "customers_df.isnull().sum()"
   ]
  },
  {
   "cell_type": "code",
   "execution_count": 15,
   "metadata": {
    "hidden": true
   },
   "outputs": [
    {
     "data": {
      "text/plain": [
       "3380"
      ]
     },
     "execution_count": 15,
     "metadata": {},
     "output_type": "execute_result"
    }
   ],
   "source": [
    "1519 + 749 + 1112"
   ]
  },
  {
   "cell_type": "markdown",
   "metadata": {
    "hidden": true
   },
   "source": [
    "There are 3380 missing values in our dataset."
   ]
  },
  {
   "cell_type": "code",
   "execution_count": 17,
   "metadata": {
    "hidden": true,
    "scrolled": true
   },
   "outputs": [
    {
     "data": {
      "text/plain": [
       "Less than $40K    3561\n",
       "$40K - $60K       1790\n",
       "$80K - $120K      1535\n",
       "$60K - $80K       1402\n",
       "$120K +            727\n",
       "Name: Income_Category, dtype: int64"
      ]
     },
     "execution_count": 17,
     "metadata": {},
     "output_type": "execute_result"
    }
   ],
   "source": [
    "customers_df['Income_Category'].value_counts()"
   ]
  },
  {
   "cell_type": "code",
   "execution_count": 29,
   "metadata": {
    "hidden": true
   },
   "outputs": [
    {
     "data": {
      "text/plain": [
       "9015"
      ]
     },
     "execution_count": 29,
     "metadata": {},
     "output_type": "execute_result"
    }
   ],
   "source": [
    "customers_df['Income_Category'].value_counts().sum()"
   ]
  },
  {
   "cell_type": "code",
   "execution_count": 18,
   "metadata": {
    "hidden": true,
    "scrolled": true
   },
   "outputs": [
    {
     "data": {
      "text/plain": [
       "10127"
      ]
     },
     "execution_count": 18,
     "metadata": {},
     "output_type": "execute_result"
    }
   ],
   "source": [
    "customers_df['Income_Category'].shape[0]"
   ]
  },
  {
   "cell_type": "markdown",
   "metadata": {
    "hidden": true
   },
   "source": [
    "When we use the value_counts method we only get the data that we know, as we are not using machine learning in this project, we will keep the missing data for now."
   ]
  },
  {
   "cell_type": "markdown",
   "metadata": {
    "heading_collapsed": true,
    "hidden": true
   },
   "source": [
    "### <font color = blue>Searching for outliers</font>"
   ]
  },
  {
   "cell_type": "markdown",
   "metadata": {
    "hidden": true
   },
   "source": [
    "Let's get a description about our numerical data using the describe method."
   ]
  },
  {
   "cell_type": "code",
   "execution_count": 19,
   "metadata": {
    "hidden": true,
    "scrolled": true
   },
   "outputs": [
    {
     "data": {
      "text/html": [
       "<div>\n",
       "<style scoped>\n",
       "    .dataframe tbody tr th:only-of-type {\n",
       "        vertical-align: middle;\n",
       "    }\n",
       "\n",
       "    .dataframe tbody tr th {\n",
       "        vertical-align: top;\n",
       "    }\n",
       "\n",
       "    .dataframe thead th {\n",
       "        text-align: right;\n",
       "    }\n",
       "</style>\n",
       "<table border=\"1\" class=\"dataframe\">\n",
       "  <thead>\n",
       "    <tr style=\"text-align: right;\">\n",
       "      <th></th>\n",
       "      <th>Customer_Age</th>\n",
       "      <th>Dependent_count</th>\n",
       "      <th>Months_on_book</th>\n",
       "      <th>Credit_Limit</th>\n",
       "    </tr>\n",
       "  </thead>\n",
       "  <tbody>\n",
       "    <tr>\n",
       "      <th>count</th>\n",
       "      <td>10127.000000</td>\n",
       "      <td>10127.000000</td>\n",
       "      <td>10127.000000</td>\n",
       "      <td>10127.000000</td>\n",
       "    </tr>\n",
       "    <tr>\n",
       "      <th>mean</th>\n",
       "      <td>46.325960</td>\n",
       "      <td>2.346203</td>\n",
       "      <td>35.928409</td>\n",
       "      <td>8631.953698</td>\n",
       "    </tr>\n",
       "    <tr>\n",
       "      <th>std</th>\n",
       "      <td>8.016814</td>\n",
       "      <td>1.298908</td>\n",
       "      <td>7.986416</td>\n",
       "      <td>9088.776650</td>\n",
       "    </tr>\n",
       "    <tr>\n",
       "      <th>min</th>\n",
       "      <td>26.000000</td>\n",
       "      <td>0.000000</td>\n",
       "      <td>13.000000</td>\n",
       "      <td>1438.300000</td>\n",
       "    </tr>\n",
       "    <tr>\n",
       "      <th>25%</th>\n",
       "      <td>41.000000</td>\n",
       "      <td>1.000000</td>\n",
       "      <td>31.000000</td>\n",
       "      <td>2555.000000</td>\n",
       "    </tr>\n",
       "    <tr>\n",
       "      <th>50%</th>\n",
       "      <td>46.000000</td>\n",
       "      <td>2.000000</td>\n",
       "      <td>36.000000</td>\n",
       "      <td>4549.000000</td>\n",
       "    </tr>\n",
       "    <tr>\n",
       "      <th>75%</th>\n",
       "      <td>52.000000</td>\n",
       "      <td>3.000000</td>\n",
       "      <td>40.000000</td>\n",
       "      <td>11067.500000</td>\n",
       "    </tr>\n",
       "    <tr>\n",
       "      <th>max</th>\n",
       "      <td>73.000000</td>\n",
       "      <td>5.000000</td>\n",
       "      <td>56.000000</td>\n",
       "      <td>34516.000000</td>\n",
       "    </tr>\n",
       "  </tbody>\n",
       "</table>\n",
       "</div>"
      ],
      "text/plain": [
       "       Customer_Age  Dependent_count  Months_on_book  Credit_Limit\n",
       "count  10127.000000     10127.000000    10127.000000  10127.000000\n",
       "mean      46.325960         2.346203       35.928409   8631.953698\n",
       "std        8.016814         1.298908        7.986416   9088.776650\n",
       "min       26.000000         0.000000       13.000000   1438.300000\n",
       "25%       41.000000         1.000000       31.000000   2555.000000\n",
       "50%       46.000000         2.000000       36.000000   4549.000000\n",
       "75%       52.000000         3.000000       40.000000  11067.500000\n",
       "max       73.000000         5.000000       56.000000  34516.000000"
      ]
     },
     "execution_count": 19,
     "metadata": {},
     "output_type": "execute_result"
    }
   ],
   "source": [
    "customers_df.describe()"
   ]
  },
  {
   "cell_type": "code",
   "execution_count": 35,
   "metadata": {
    "hidden": true
   },
   "outputs": [
    {
     "data": {
      "text/plain": [
       "14    16\n",
       "16    29\n",
       "15    34\n",
       "17    39\n",
       "55    42\n",
       "54    53\n",
       "18    58\n",
       "52    62\n",
       "19    63\n",
       "13    70\n",
       "Name: Months_on_book, dtype: int64"
      ]
     },
     "execution_count": 35,
     "metadata": {},
     "output_type": "execute_result"
    }
   ],
   "source": [
    "customers_df.Months_on_book.value_counts().sort_values().head(10)"
   ]
  },
  {
   "cell_type": "code",
   "execution_count": 36,
   "metadata": {
    "hidden": true
   },
   "outputs": [
    {
     "data": {
      "text/plain": [
       "73     1\n",
       "70     1\n",
       "66     2\n",
       "68     2\n",
       "67     4\n",
       "28    29\n",
       "27    32\n",
       "64    43\n",
       "29    56\n",
       "63    65\n",
       "Name: Customer_Age, dtype: int64"
      ]
     },
     "execution_count": 36,
     "metadata": {},
     "output_type": "execute_result"
    }
   ],
   "source": [
    "customers_df.Customer_Age.value_counts().sort_values().head(10)"
   ]
  },
  {
   "cell_type": "code",
   "execution_count": 38,
   "metadata": {
    "hidden": true
   },
   "outputs": [
    {
     "data": {
      "text/plain": [
       "3    2732\n",
       "2    2655\n",
       "1    1838\n",
       "4    1574\n",
       "0     904\n",
       "5     424\n",
       "Name: Dependent_count, dtype: int64"
      ]
     },
     "execution_count": 38,
     "metadata": {},
     "output_type": "execute_result"
    }
   ],
   "source": [
    "customers_df.Dependent_count.value_counts()"
   ]
  },
  {
   "cell_type": "code",
   "execution_count": 40,
   "metadata": {
    "hidden": true
   },
   "outputs": [
    {
     "data": {
      "text/plain": [
       "9267.0     1\n",
       "23742.0    1\n",
       "16791.0    1\n",
       "1825.0     1\n",
       "6778.0     1\n",
       "4267.0     1\n",
       "3273.0     1\n",
       "8389.0     1\n",
       "28410.0    1\n",
       "6168.0     1\n",
       "8167.0     1\n",
       "3141.0     1\n",
       "30753.0    1\n",
       "4230.0     1\n",
       "9515.0     1\n",
       "10962.0    1\n",
       "23848.0    1\n",
       "10144.0    1\n",
       "8242.0     1\n",
       "24936.0    1\n",
       "Name: Credit_Limit, dtype: int64"
      ]
     },
     "execution_count": 40,
     "metadata": {},
     "output_type": "execute_result"
    }
   ],
   "source": [
    "customers_df.Credit_Limit.value_counts().sort_values().head(20)"
   ]
  },
  {
   "cell_type": "markdown",
   "metadata": {
    "hidden": true
   },
   "source": [
    "`Credit_Limit` doesn't not seems to be a standardized number, we will see this feature of our data more in depth in the next part."
   ]
  },
  {
   "cell_type": "markdown",
   "metadata": {
    "hidden": true
   },
   "source": [
    "Everything seems normal for now so we will continue the overview of our data"
   ]
  },
  {
   "cell_type": "markdown",
   "metadata": {
    "hidden": true
   },
   "source": [
    "\n",
    "\n",
    "Now that we have prepared, cleaned and got a overview of our dataset, we are ready to start the exploratory analysis and visualization of our data."
   ]
  },
  {
   "cell_type": "markdown",
   "metadata": {
    "heading_collapsed": true
   },
   "source": [
    "## <font color=blue>Exploratory Analysis and Visualization</font>\n",
    "***"
   ]
  },
  {
   "cell_type": "markdown",
   "metadata": {
    "hidden": true
   },
   "source": [
    "Exploratory data analysis is where we perform the first investigations in our data. Now we will explore more our data, seeking understanding and insights, relationships and distributions that were not clear before.\n",
    "\n",
    "Visualization is the tool to help this analysis, by creating images that represents the information of our data set, with the distributions, relationships and formulas applied.\n",
    "\n",
    "We will start using `seaborn` and `matplotlib` to help make the visualizations."
   ]
  },
  {
   "cell_type": "markdown",
   "metadata": {
    "heading_collapsed": true,
    "hidden": true
   },
   "source": [
    "### <font color=blue>Age</font>"
   ]
  },
  {
   "cell_type": "code",
   "execution_count": 81,
   "metadata": {
    "hidden": true,
    "scrolled": false
   },
   "outputs": [
    {
     "data": {
      "image/png": "[encoded data removed]",
      "text/plain": [
       "<Figure size 1080x360 with 1 Axes>"
      ]
     },
     "metadata": {
      "needs_background": "light"
     },
     "output_type": "display_data"
    }
   ],
   "source": [
    "plt.figure(figsize=(15, 5))\n",
    "sns.countplot(data = customers_df, x = 'Customer_Age')\n",
    "plt.title('Credit Card Customers Age Distribution')\n",
    "plt.ylabel('Customers Count')\n",
    "plt.xlabel('Customers Age');"
   ]
  },
  {
   "cell_type": "markdown",
   "metadata": {
    "hidden": true
   },
   "source": [
    "There is a lot of different categories for age, and that is pretty demanding on space, another way to visualize this graph is with the use of a histogram, so let's discover a good range of values to utilize."
   ]
  },
  {
   "cell_type": "code",
   "execution_count": 54,
   "metadata": {
    "hidden": true
   },
   "outputs": [
    {
     "name": "stdout",
     "output_type": "stream",
     "text": [
      "The age of the customers in the dataset ranges from 26 to 73\n"
     ]
    }
   ],
   "source": [
    "print(f'The age of the customers in the dataset ranges from {customers_df.Customer_Age.min()} to {customers_df.Customer_Age.max()}')"
   ]
  },
  {
   "cell_type": "markdown",
   "metadata": {
    "hidden": true
   },
   "source": [
    "Now that we know that the range of values goes from 26-73, we can choose close values to define our histogram area, and a valid bin size."
   ]
  },
  {
   "cell_type": "code",
   "execution_count": 101,
   "metadata": {
    "hidden": true
   },
   "outputs": [
    {
     "data": {
      "image/png": "[encoded data removed]",
      "text/plain": [
       "<Figure size 720x360 with 1 Axes>"
      ]
     },
     "metadata": {},
     "output_type": "display_data"
    }
   ],
   "source": [
    "from matplotlib import colors\n",
    "\n",
    "plt.figure(figsize=(10, 5))\n",
    "N, bins, patches = plt.hist(customers_df.Customer_Age, bins=np.arange(20,80,5))\n",
    "\n",
    "height_to_color = N / N.max()\n",
    "\n",
    "norm = colors.Normalize(height_to_color.min(), height_to_color.max())\n",
    "\n",
    "for thisheight, thispatch in zip(height_to_color, patches):\n",
    "    color = plt.cm.gist_yarg(norm(thisheight))\n",
    "    thispatch.set_facecolor(color)\n",
    "    \n",
    "plt.title('Credit Card Customers Age Histogram')\n",
    "plt.ylabel('Customers Count')\n",
    "plt.xlabel('Customers Age');"
   ]
  },
  {
   "cell_type": "markdown",
   "metadata": {
    "hidden": true
   },
   "source": [
    "With the histogram, we can still see the format of a normal tendency, and also in age groups format, that demands less space to our plotting. It appears that the higher majority of customers of credit cards of the bank are between 40 and 55 years old."
   ]
  },
  {
   "cell_type": "markdown",
   "metadata": {
    "heading_collapsed": true,
    "hidden": true
   },
   "source": [
    "### <font color=blue>Gender</font>"
   ]
  },
  {
   "cell_type": "code",
   "execution_count": 22,
   "metadata": {
    "hidden": true,
    "scrolled": true
   },
   "outputs": [
    {
     "data": {
      "text/plain": [
       "F    5358\n",
       "M    4769\n",
       "Name: Gender, dtype: int64"
      ]
     },
     "execution_count": 22,
     "metadata": {},
     "output_type": "execute_result"
    }
   ],
   "source": [
    "gender_count = customers_df.Gender.value_counts()\n",
    "gender_count"
   ]
  },
  {
   "cell_type": "markdown",
   "metadata": {
    "hidden": true
   },
   "source": [
    "Seems there are more Female customers in our dataset, let's visualize in a pie chart."
   ]
  },
  {
   "cell_type": "code",
   "execution_count": 23,
   "metadata": {
    "hidden": true
   },
   "outputs": [
    {
     "data": {
      "image/png": "[encoded data removed]",
      "text/plain": [
       "<Figure size 432x288 with 1 Axes>"
      ]
     },
     "metadata": {},
     "output_type": "display_data"
    }
   ],
   "source": [
    "plt.pie(gender_count, startangle = 90, labels = ['Female', 'Male'], colors = ['orange', 'c'], autopct='%1.1f%%')\n",
    "plt.title('Gender Piechart Distribution')\n",
    "plt.legend(['F', 'M']);"
   ]
  },
  {
   "cell_type": "code",
   "execution_count": 20,
   "metadata": {
    "hidden": true
   },
   "outputs": [
    {
     "data": {
      "text/plain": [
       "'5.8%'"
      ]
     },
     "execution_count": 20,
     "metadata": {},
     "output_type": "execute_result"
    }
   ],
   "source": [
    "f'{round((52.9 - 47.1), 2)}' + '%'"
   ]
  },
  {
   "cell_type": "markdown",
   "metadata": {
    "hidden": true
   },
   "source": [
    "Nearly 53% of the customers are registered as Female, almost 6% higher than the number of people with the Male Gender in our data. The reasons for the difference can be further explored in future projects."
   ]
  },
  {
   "cell_type": "markdown",
   "metadata": {
    "heading_collapsed": true,
    "hidden": true
   },
   "source": [
    "### <font color = blue>Dependent Count</font>"
   ]
  },
  {
   "cell_type": "code",
   "execution_count": 91,
   "metadata": {
    "hidden": true
   },
   "outputs": [
    {
     "data": {
      "text/plain": [
       "3    2732\n",
       "2    2655\n",
       "1    1838\n",
       "4    1574\n",
       "0     904\n",
       "5     424\n",
       "Name: Dependent_count, dtype: int64"
      ]
     },
     "execution_count": 91,
     "metadata": {},
     "output_type": "execute_result"
    }
   ],
   "source": [
    "dependent_count = customers_df.Dependent_count.value_counts()\n",
    "dependent_count"
   ]
  },
  {
   "cell_type": "code",
   "execution_count": 35,
   "metadata": {
    "hidden": true
   },
   "outputs": [
    {
     "data": {
      "image/png": "[encoded data removed]",
      "text/plain": [
       "<Figure size 1080x360 with 1 Axes>"
      ]
     },
     "metadata": {
      "needs_background": "light"
     },
     "output_type": "display_data"
    }
   ],
   "source": [
    "plt.figure(figsize=(15, 5))\n",
    "sns.countplot(data = customers_df, x = 'Dependent_count', palette = 'rocket_r')\n",
    "plt.title('Dependent Count Distribution')\n",
    "plt.xlabel('Customers Count')\n",
    "plt.ylabel('Customers Dependent count');"
   ]
  },
  {
   "cell_type": "markdown",
   "metadata": {
    "hidden": true
   },
   "source": [
    "The largest part of the dependent count data is between 2 and 3, maybe people with 2 or 3 sons are more likely to get credit cards, or maybe it is the most frequent number for another reason. For now let's visualize the divergence between the total number of dependent count from 3 to 2."
   ]
  },
  {
   "cell_type": "code",
   "execution_count": 59,
   "metadata": {
    "hidden": true
   },
   "outputs": [
    {
     "data": {
      "text/plain": [
       "2    2655\n",
       "3    2732\n",
       "Name: Dependent_count, dtype: int64"
      ]
     },
     "execution_count": 59,
     "metadata": {},
     "output_type": "execute_result"
    }
   ],
   "source": [
    "majority_dependent_count_df = customers_df.Dependent_count.value_counts()[[2, 3]]\n",
    "majority_dependent_count_df"
   ]
  },
  {
   "cell_type": "code",
   "execution_count": 109,
   "metadata": {
    "hidden": true
   },
   "outputs": [
    {
     "data": {
      "text/plain": [
       "2    0.262\n",
       "3    0.270\n",
       "Name: Dependent_count, dtype: float64"
      ]
     },
     "execution_count": 109,
     "metadata": {},
     "output_type": "execute_result"
    }
   ],
   "source": [
    "majority_dependent_count_percentage_df = majority_dependent_count_df / customers_df.Dependent_count.shape[0]\n",
    "majority_dependent_count_percentage_df = majority_dependent_count_percentage_df.round(3)\n",
    "majority_dependent_count_percentage_df"
   ]
  },
  {
   "cell_type": "code",
   "execution_count": 110,
   "metadata": {
    "hidden": true
   },
   "outputs": [
    {
     "data": {
      "image/png": "[encoded data removed]",
      "text/plain": [
       "<Figure size 432x288 with 1 Axes>"
      ]
     },
     "metadata": {},
     "output_type": "display_data"
    }
   ],
   "source": [
    "plt.pie(majority_dependent_count_df, startangle = 90, colors = ['m', 'pink'], normalize = True, labels = majority_dependent_count_percentage_df)\n",
    "circle = plt.Circle((0,0), 0.4, color='white')\n",
    "p=plt.gcf()\n",
    "p.gca().add_artist(circle)\n",
    "plt.legend(majority_dependent_count_df.index)\n",
    "plt.show()"
   ]
  },
  {
   "cell_type": "markdown",
   "metadata": {
    "hidden": true
   },
   "source": [
    "The difference between each other is barely 0.01% with all customers in consideration."
   ]
  },
  {
   "cell_type": "markdown",
   "metadata": {
    "heading_collapsed": true,
    "hidden": true
   },
   "source": [
    "### <font color=blue>Education Level</font>"
   ]
  },
  {
   "cell_type": "code",
   "execution_count": 116,
   "metadata": {
    "hidden": true
   },
   "outputs": [
    {
     "data": {
      "text/plain": [
       "array(['High School', 'Graduate', 'Uneducated', nan, 'College',\n",
       "       'Post-Graduate', 'Doctorate'], dtype=object)"
      ]
     },
     "execution_count": 116,
     "metadata": {},
     "output_type": "execute_result"
    }
   ],
   "source": [
    "customers_df.Education_Level.unique()"
   ]
  },
  {
   "cell_type": "code",
   "execution_count": 30,
   "metadata": {
    "hidden": true
   },
   "outputs": [],
   "source": [
    "order_education = ['Uneducated', 'High School', 'College', 'Graduate', 'Post-Graduate', 'Doctorate']"
   ]
  },
  {
   "cell_type": "code",
   "execution_count": 117,
   "metadata": {
    "hidden": true
   },
   "outputs": [
    {
     "data": {
      "image/png": "[encoded data removed]",
      "text/plain": [
       "<Figure size 576x360 with 1 Axes>"
      ]
     },
     "metadata": {
      "needs_background": "light"
     },
     "output_type": "display_data"
    }
   ],
   "source": [
    "plt.figure(figsize=(8, 5))\n",
    "sns.countplot(data = customers_df, \n",
    "              y = 'Education_Level', \n",
    "              palette = 'magma', \n",
    "              order = order_education)\n",
    "plt.title('Education Level Distribution')\n",
    "plt.xlabel('Customers Count')\n",
    "plt.ylabel('Customers Schooling');"
   ]
  },
  {
   "cell_type": "markdown",
   "metadata": {
    "hidden": true
   },
   "source": [
    "More than 2000 customers have the High School degree, while the majority of customers are Graduates."
   ]
  },
  {
   "cell_type": "markdown",
   "metadata": {
    "heading_collapsed": true,
    "hidden": true
   },
   "source": [
    "### <font color=blue>Marital Status</font>"
   ]
  },
  {
   "cell_type": "code",
   "execution_count": 51,
   "metadata": {
    "hidden": true
   },
   "outputs": [
    {
     "data": {
      "text/plain": [
       "Married     4687\n",
       "Single      3943\n",
       "Divorced     748\n",
       "Name: Marital_Status, dtype: int64"
      ]
     },
     "execution_count": 51,
     "metadata": {},
     "output_type": "execute_result"
    }
   ],
   "source": [
    "customers_df.Marital_Status.value_counts()"
   ]
  },
  {
   "cell_type": "code",
   "execution_count": 160,
   "metadata": {
    "hidden": true,
    "scrolled": true
   },
   "outputs": [
    {
     "data": {
      "image/png": "[encoded data removed]",
      "text/plain": [
       "<Figure size 1080x360 with 2 Axes>"
      ]
     },
     "metadata": {
      "needs_background": "light"
     },
     "output_type": "display_data"
    }
   ],
   "source": [
    "fig, axes = plt.subplots(1, 2, figsize=(15, 5))\n",
    "\n",
    "axes[0].plot(customers_df.Marital_Status.value_counts());\n",
    "axes[0].set_title('Marital Status Line Chart')\n",
    "axes[0].set_ylabel('Customers Count')\n",
    "axes[0].set_xlabel('Customers Marital Status');\n",
    "\n",
    "axes[1].set_title('Marital Status Histogram by Gender')\n",
    "sns.histplot(data = customers_df, x = 'Marital_Status', hue = 'Gender', multiple = 'dodge', shrink=.8);\n",
    "axes[1].set_ylabel('Customers Count')\n",
    "axes[1].set_xlabel('Customers Marital Status');"
   ]
  },
  {
   "cell_type": "markdown",
   "metadata": {
    "hidden": true
   },
   "source": [
    "We have more married customers than Single or Divorced, and with the second histogram we are able to see more clearly the marital distribution across different genders. Since the Female Gender is more frequent in our data, seems correct to assume that the female costumers has higher counts across this distribution."
   ]
  },
  {
   "cell_type": "markdown",
   "metadata": {
    "heading_collapsed": true,
    "hidden": true
   },
   "source": [
    "### <font color=blue>Income Category</font>"
   ]
  },
  {
   "cell_type": "code",
   "execution_count": 49,
   "metadata": {
    "hidden": true
   },
   "outputs": [
    {
     "data": {
      "text/plain": [
       "Less than $40K    3561\n",
       "$40K - $60K       1790\n",
       "$80K - $120K      1535\n",
       "$60K - $80K       1402\n",
       "$120K +            727\n",
       "Name: Income_Category, dtype: int64"
      ]
     },
     "execution_count": 49,
     "metadata": {},
     "output_type": "execute_result"
    }
   ],
   "source": [
    "customers_df.Income_Category.value_counts()"
   ]
  },
  {
   "cell_type": "code",
   "execution_count": 95,
   "metadata": {
    "hidden": true
   },
   "outputs": [],
   "source": [
    "order = ['Less than $40K', '$40K - $60K', '$60K - $80K', '$80K - $120K', '$120K +']"
   ]
  },
  {
   "cell_type": "code",
   "execution_count": 15,
   "metadata": {
    "hidden": true,
    "scrolled": true
   },
   "outputs": [
    {
     "data": {
      "image/png": "[encoded data removed]",
      "text/plain": [
       "<Figure size 1080x360 with 1 Axes>"
      ]
     },
     "metadata": {
      "needs_background": "light"
     },
     "output_type": "display_data"
    }
   ],
   "source": [
    "plt.figure(figsize=(15, 5))\n",
    "sns.barplot(x = customers_df.Income_Category.value_counts().index, \n",
    "            y = customers_df.Income_Category.value_counts(),\n",
    "            palette = 'GnBu',\n",
    "            order = order)\n",
    "plt.title('Credit Card Customers Income Category Distribution')\n",
    "plt.xlabel('Customers Income Category')\n",
    "plt.ylabel('Customers Count');"
   ]
  },
  {
   "cell_type": "markdown",
   "metadata": {
    "hidden": true
   },
   "source": [
    "The category with the most customers of the bank analysed in this data set contains more customers on the `Less than $40k` income category."
   ]
  },
  {
   "cell_type": "code",
   "execution_count": 16,
   "metadata": {
    "hidden": true,
    "scrolled": true
   },
   "outputs": [
    {
     "data": {
      "image/png": "[encoded data removed]",
      "text/plain": [
       "<Figure size 1080x360 with 1 Axes>"
      ]
     },
     "metadata": {
      "needs_background": "light"
     },
     "output_type": "display_data"
    }
   ],
   "source": [
    "plt.figure(figsize=(15, 5))\n",
    "sns.countplot(data = customers_df, \n",
    "              x = 'Income_Category', \n",
    "              hue = 'Gender',\n",
    "              palette = 'rocket',\n",
    "              order = order)\n",
    "plt.title('Credit Card Customers Income Category by Gender Distribution')\n",
    "plt.xlabel('Customers Income Category')\n",
    "plt.ylabel('Customers Count');"
   ]
  },
  {
   "cell_type": "markdown",
   "metadata": {
    "hidden": true
   },
   "source": [
    "Now we can see a possible anomaly, with only having Females receiving `Less than $40K` and between `$40K - $60K` even though Female customers are in higher number in our dataset."
   ]
  },
  {
   "cell_type": "markdown",
   "metadata": {
    "heading_collapsed": true,
    "hidden": true
   },
   "source": [
    "### <font color = Blue>Card Category</font>"
   ]
  },
  {
   "cell_type": "code",
   "execution_count": 38,
   "metadata": {
    "hidden": true
   },
   "outputs": [
    {
     "data": {
      "text/plain": [
       "Blue        9436\n",
       "Silver       555\n",
       "Gold         116\n",
       "Platinum      20\n",
       "Name: Card_Category, dtype: int64"
      ]
     },
     "execution_count": 38,
     "metadata": {},
     "output_type": "execute_result"
    }
   ],
   "source": [
    "customers_df.Card_Category.value_counts()"
   ]
  },
  {
   "cell_type": "code",
   "execution_count": 30,
   "metadata": {
    "hidden": true
   },
   "outputs": [
    {
     "data": {
      "image/png": "[encoded data removed]",
      "text/plain": [
       "<Figure size 1080x360 with 1 Axes>"
      ]
     },
     "metadata": {
      "needs_background": "light"
     },
     "output_type": "display_data"
    }
   ],
   "source": [
    "plt.figure(figsize=(15, 5))\n",
    "sns.countplot(data = customers_df, y = 'Card_Category', palette = ['darkturquoise', 'gold', 'silver', 'silver'])\n",
    "plt.title('Cards Category Distribution')\n",
    "plt.xlabel('Customers Count')\n",
    "plt.ylabel('Card Types');"
   ]
  },
  {
   "cell_type": "markdown",
   "metadata": {
    "hidden": true
   },
   "source": [
    "Blue type cards has too many customers, so lets divide it from the rest."
   ]
  },
  {
   "cell_type": "code",
   "execution_count": 126,
   "metadata": {
    "hidden": true
   },
   "outputs": [],
   "source": [
    "cards_not_blue = customers_df.query('Card_Category != \"Blue\"')\n",
    "cards_blue = customers_df.query('Card_Category == \"Blue\"')"
   ]
  },
  {
   "cell_type": "markdown",
   "metadata": {
    "hidden": true
   },
   "source": [
    "Now that blue type got his own dataframe, we will Plot histograms by Income."
   ]
  },
  {
   "cell_type": "code",
   "execution_count": 130,
   "metadata": {
    "hidden": true,
    "scrolled": true
   },
   "outputs": [
    {
     "data": {
      "image/png": "[encoded data removed]",
      "text/plain": [
       "<Figure size 1296x360 with 2 Axes>"
      ]
     },
     "metadata": {},
     "output_type": "display_data"
    }
   ],
   "source": [
    "fig, axes = plt.subplots(1, 2, figsize=(18, 5))\n",
    "\n",
    "hue_order = ['Less than $40K', '$40K - $60K', '$60K - $80K', '$80K - $120K', '$120K +']\n",
    "\n",
    "axes[0].set_title('Without Blue - Card Type By Income')\n",
    "\n",
    "sns.histplot(data = cards_not_blue, \n",
    "             x = 'Card_Category', \n",
    "             hue = 'Income_Category', \n",
    "             hue_order = hue_order, \n",
    "             multiple = 'dodge', \n",
    "             shrink=.8,\n",
    "             palette = 'mako_r',\n",
    "             ax = axes[0]);\n",
    "\n",
    "axes[1].set_title('Only Blue - Credit Card By Income')\n",
    "sns.histplot(data = cards_blue, \n",
    "             x = 'Card_Category', \n",
    "             hue = 'Income_Category', \n",
    "             hue_order = hue_order, \n",
    "             multiple = 'dodge', \n",
    "             shrink=.6, \n",
    "             palette = 'mako_r',\n",
    "             ax = axes[1]);"
   ]
  },
  {
   "cell_type": "markdown",
   "metadata": {
    "hidden": true
   },
   "source": [
    "Only a small number of clients uses other type of cards than blue, so maybe it's a good reason to look in more detail the reasons and to try change things like creating more benefits in having other type of cards."
   ]
  },
  {
   "cell_type": "markdown",
   "metadata": {
    "heading_collapsed": true,
    "hidden": true
   },
   "source": [
    "### <font color = blue>Months on book</font>"
   ]
  },
  {
   "cell_type": "code",
   "execution_count": 32,
   "metadata": {
    "hidden": true
   },
   "outputs": [
    {
     "data": {
      "text/plain": [
       "count    10127.000000\n",
       "mean        35.928409\n",
       "std          7.986416\n",
       "min         13.000000\n",
       "25%         31.000000\n",
       "50%         36.000000\n",
       "75%         40.000000\n",
       "max         56.000000\n",
       "Name: Months_on_book, dtype: float64"
      ]
     },
     "execution_count": 32,
     "metadata": {},
     "output_type": "execute_result"
    }
   ],
   "source": [
    "customers_df.Months_on_book.describe()"
   ]
  },
  {
   "cell_type": "code",
   "execution_count": 110,
   "metadata": {
    "hidden": true
   },
   "outputs": [
    {
     "data": {
      "image/png": "[encoded data removed]",
      "text/plain": [
       "<Figure size 576x576 with 1 Axes>"
      ]
     },
     "metadata": {},
     "output_type": "display_data"
    }
   ],
   "source": [
    "sns.set_style('darkgrid')\n",
    "plt.figure(figsize=(8,8))\n",
    "sns.violinplot(data = customers_df, y = 'Months_on_book', palette = 'GnBu')\n",
    "plt.title('Months on Book Violin Plot');"
   ]
  },
  {
   "cell_type": "markdown",
   "metadata": {
    "hidden": true
   },
   "source": [
    "The middle point in the `Violin Plot` means the Median of `Months_on_book`. There is a higher probability of the customer being around the Median, represented by the light blue part of the plot."
   ]
  },
  {
   "cell_type": "code",
   "execution_count": 17,
   "metadata": {
    "hidden": true
   },
   "outputs": [
    {
     "data": {
      "image/png": "[encoded data removed]",
      "text/plain": [
       "<Figure size 1080x360 with 1 Axes>"
      ]
     },
     "metadata": {
      "needs_background": "light"
     },
     "output_type": "display_data"
    }
   ],
   "source": [
    "plt.figure(figsize = (15, 5))\n",
    "sns.boxplot(data = customers_df, \n",
    "            y = 'Months_on_book', \n",
    "            x = 'Income_Category', \n",
    "            hue = 'Gender', \n",
    "            palette = 'mako',\n",
    "            order = order)\n",
    "plt.title('Boxplot on Months on book by Income and Gender');"
   ]
  },
  {
   "cell_type": "markdown",
   "metadata": {
    "hidden": true
   },
   "source": [
    "People of the female Gender have a lower variation between the months being customers. Also as visualized in the `Income_Category` analysis, there female customers are only present in the first two Income Categories."
   ]
  },
  {
   "cell_type": "code",
   "execution_count": 19,
   "metadata": {
    "hidden": true
   },
   "outputs": [
    {
     "data": {
      "image/png": "[encoded data removed]",
      "text/plain": [
       "<Figure size 1080x360 with 1 Axes>"
      ]
     },
     "metadata": {
      "needs_background": "light"
     },
     "output_type": "display_data"
    }
   ],
   "source": [
    "plt.figure(figsize = (15, 5))\n",
    "sns.boxplot(data = customers_df, \n",
    "            y = 'Months_on_book', \n",
    "            x = 'Income_Category', \n",
    "            hue = 'Card_Category', \n",
    "            order = order);"
   ]
  },
  {
   "cell_type": "markdown",
   "metadata": {
    "hidden": true
   },
   "source": [
    "The Boxplot seems to be indicating that there is outliers in this data."
   ]
  },
  {
   "cell_type": "markdown",
   "metadata": {
    "hidden": true
   },
   "source": [
    "### <font color = blue>Credit Limit</font>"
   ]
  },
  {
   "cell_type": "code",
   "execution_count": 59,
   "metadata": {
    "hidden": true
   },
   "outputs": [
    {
     "data": {
      "text/plain": [
       "count    10127.000000\n",
       "mean      8631.953698\n",
       "std       9088.776650\n",
       "min       1438.300000\n",
       "25%       2555.000000\n",
       "50%       4549.000000\n",
       "75%      11067.500000\n",
       "max      34516.000000\n",
       "Name: Credit_Limit, dtype: float64"
      ]
     },
     "execution_count": 59,
     "metadata": {},
     "output_type": "execute_result"
    }
   ],
   "source": [
    "customers_df.Credit_Limit.describe()"
   ]
  },
  {
   "cell_type": "code",
   "execution_count": 72,
   "metadata": {
    "hidden": true
   },
   "outputs": [
    {
     "data": {
      "image/png": "[encoded data removed]",
      "text/plain": [
       "<Figure size 1080x360 with 1 Axes>"
      ]
     },
     "metadata": {
      "needs_background": "light"
     },
     "output_type": "display_data"
    }
   ],
   "source": [
    "plt.figure(figsize=(15, 5))\n",
    "N, bins, patches = plt.hist(customers_df.Credit_Limit, bins=np.arange(customers_df.Credit_Limit.min(),\n",
    "                                                                             customers_df.Credit_Limit.max(),\n",
    "                                                                             1000))\n",
    "\n",
    "height_to_color = N / N.max()\n",
    "\n",
    "norm = colors.Normalize(height_to_color.min(), height_to_color.max())\n",
    "\n",
    "for thisheight, thispatch in zip(height_to_color, patches):\n",
    "    color = plt.cm.copper(norm(thisheight))\n",
    "    thispatch.set_facecolor(color)\n",
    "    \n",
    "plt.title('Credit Card Limit Histogram')\n",
    "plt.ylabel('Customers Count')\n",
    "plt.xlabel('Credit Limit');"
   ]
  },
  {
   "cell_type": "markdown",
   "metadata": {
    "hidden": true
   },
   "source": [
    "There are all types of `Credit Limit`, from 1438.3K to 34516K, but credit limits between 1438.3K and a bit more than 5000K are more frequent. `Credit Limit` is normally evaluated by credit score, payment history, income, credit utilization and large expenses. We removed a few columns of our data set that would be usefull to correlate to the `Credit Limit`, but this is not the focus of this analysis, so now we'll try to search correlations with the data that we have at hand."
   ]
  },
  {
   "cell_type": "code",
   "execution_count": 58,
   "metadata": {
    "hidden": true
   },
   "outputs": [
    {
     "data": {
      "image/png": "[encoded data removed]",
      "text/plain": [
       "<Figure size 1080x360 with 1 Axes>"
      ]
     },
     "metadata": {
      "needs_background": "light"
     },
     "output_type": "display_data"
    }
   ],
   "source": [
    "plt.figure(figsize = (15, 5))\n",
    "sns.boxplot(data = customers_df, \n",
    "            y = 'Credit_Limit', \n",
    "            x = 'Income_Category', \n",
    "            hue = 'Card_Category',       \n",
    "            order = order);\n",
    "plt.title('Credit Limit by Income Category and Card Category Distribution');"
   ]
  },
  {
   "cell_type": "markdown",
   "metadata": {
    "hidden": true
   },
   "source": [
    "The better the income, the higher the limit, but as we can see, there are irregularities in some type of Cards for specific Incomes, probably because there are only a few customers on other credit types than blue. Let's visualize without the `Card Category` in consideration."
   ]
  },
  {
   "cell_type": "code",
   "execution_count": 29,
   "metadata": {
    "hidden": true
   },
   "outputs": [
    {
     "data": {
      "image/png": "[encoded data removed]",
      "text/plain": [
       "<Figure size 1080x360 with 1 Axes>"
      ]
     },
     "metadata": {
      "needs_background": "light"
     },
     "output_type": "display_data"
    }
   ],
   "source": [
    "plt.figure(figsize = (15, 5))\n",
    "sns.violinplot(data = customers_df, \n",
    "            y = 'Credit_Limit', \n",
    "            x = 'Income_Category',  \n",
    "            palette = 'terrain',\n",
    "            order = order)\n",
    "plt.title('Credit Limit by Income Category Distribution');"
   ]
  },
  {
   "cell_type": "markdown",
   "metadata": {
    "hidden": true
   },
   "source": [
    "This way we have a better picture about the `Credit Limit` by `Income Category`. There is a higher probability of our clients that have `Less than $40K` having `Credit Limit` lower than $10K."
   ]
  },
  {
   "cell_type": "markdown",
   "metadata": {},
   "source": [
    "## <font color=blue>Asking and Answering Questions</font>\n",
    "***"
   ]
  },
  {
   "cell_type": "markdown",
   "metadata": {},
   "source": [
    "Now that we already explored our data, we will try to ask and answer more profound questions about our dataset."
   ]
  },
  {
   "cell_type": "markdown",
   "metadata": {
    "heading_collapsed": true
   },
   "source": [
    "#### <font color = blue>Q1: What are the averages credit limits by card category?</font>"
   ]
  },
  {
   "cell_type": "code",
   "execution_count": 26,
   "metadata": {
    "hidden": true
   },
   "outputs": [
    {
     "data": {
      "text/html": [
       "<div>\n",
       "<style scoped>\n",
       "    .dataframe tbody tr th:only-of-type {\n",
       "        vertical-align: middle;\n",
       "    }\n",
       "\n",
       "    .dataframe tbody tr th {\n",
       "        vertical-align: top;\n",
       "    }\n",
       "\n",
       "    .dataframe thead th {\n",
       "        text-align: right;\n",
       "    }\n",
       "</style>\n",
       "<table border=\"1\" class=\"dataframe\">\n",
       "  <thead>\n",
       "    <tr style=\"text-align: right;\">\n",
       "      <th></th>\n",
       "      <th>Customer_Age</th>\n",
       "      <th>Gender</th>\n",
       "      <th>Dependent_count</th>\n",
       "      <th>Education_Level</th>\n",
       "      <th>Marital_Status</th>\n",
       "      <th>Income_Category</th>\n",
       "      <th>Card_Category</th>\n",
       "      <th>Months_on_book</th>\n",
       "      <th>Credit_Limit</th>\n",
       "    </tr>\n",
       "  </thead>\n",
       "  <tbody>\n",
       "    <tr>\n",
       "      <th>0</th>\n",
       "      <td>45</td>\n",
       "      <td>M</td>\n",
       "      <td>3</td>\n",
       "      <td>High School</td>\n",
       "      <td>Married</td>\n",
       "      <td>$60K - $80K</td>\n",
       "      <td>Blue</td>\n",
       "      <td>39</td>\n",
       "      <td>12691.0</td>\n",
       "    </tr>\n",
       "    <tr>\n",
       "      <th>1</th>\n",
       "      <td>49</td>\n",
       "      <td>F</td>\n",
       "      <td>5</td>\n",
       "      <td>Graduate</td>\n",
       "      <td>Single</td>\n",
       "      <td>Less than $40K</td>\n",
       "      <td>Blue</td>\n",
       "      <td>44</td>\n",
       "      <td>8256.0</td>\n",
       "    </tr>\n",
       "    <tr>\n",
       "      <th>2</th>\n",
       "      <td>51</td>\n",
       "      <td>M</td>\n",
       "      <td>3</td>\n",
       "      <td>Graduate</td>\n",
       "      <td>Married</td>\n",
       "      <td>$80K - $120K</td>\n",
       "      <td>Blue</td>\n",
       "      <td>36</td>\n",
       "      <td>3418.0</td>\n",
       "    </tr>\n",
       "    <tr>\n",
       "      <th>3</th>\n",
       "      <td>40</td>\n",
       "      <td>F</td>\n",
       "      <td>4</td>\n",
       "      <td>High School</td>\n",
       "      <td>Unknown</td>\n",
       "      <td>Less than $40K</td>\n",
       "      <td>Blue</td>\n",
       "      <td>34</td>\n",
       "      <td>3313.0</td>\n",
       "    </tr>\n",
       "    <tr>\n",
       "      <th>4</th>\n",
       "      <td>40</td>\n",
       "      <td>M</td>\n",
       "      <td>3</td>\n",
       "      <td>Uneducated</td>\n",
       "      <td>Married</td>\n",
       "      <td>$60K - $80K</td>\n",
       "      <td>Blue</td>\n",
       "      <td>21</td>\n",
       "      <td>4716.0</td>\n",
       "    </tr>\n",
       "  </tbody>\n",
       "</table>\n",
       "</div>"
      ],
      "text/plain": [
       "   Customer_Age Gender  Dependent_count Education_Level Marital_Status  \\\n",
       "0            45      M                3     High School        Married   \n",
       "1            49      F                5        Graduate         Single   \n",
       "2            51      M                3        Graduate        Married   \n",
       "3            40      F                4     High School        Unknown   \n",
       "4            40      M                3      Uneducated        Married   \n",
       "\n",
       "  Income_Category Card_Category  Months_on_book  Credit_Limit  \n",
       "0     $60K - $80K          Blue              39       12691.0  \n",
       "1  Less than $40K          Blue              44        8256.0  \n",
       "2    $80K - $120K          Blue              36        3418.0  \n",
       "3  Less than $40K          Blue              34        3313.0  \n",
       "4     $60K - $80K          Blue              21        4716.0  "
      ]
     },
     "execution_count": 26,
     "metadata": {},
     "output_type": "execute_result"
    }
   ],
   "source": [
    "customers_df.head()"
   ]
  },
  {
   "cell_type": "code",
   "execution_count": 23,
   "metadata": {
    "hidden": true
   },
   "outputs": [
    {
     "data": {
      "image/png": "[encoded data removed]",
      "text/plain": [
       "<Figure size 1080x432 with 1 Axes>"
      ]
     },
     "metadata": {
      "needs_background": "light"
     },
     "output_type": "display_data"
    }
   ],
   "source": [
    "plt.figure(figsize=(15,6))\n",
    "sns.barplot(x='Card_Category', \n",
    "            y='Credit_Limit', \n",
    "            data = customers_df, \n",
    "            order = ['Blue', 'Silver', 'Gold', 'Platinum'],\n",
    "            palette = ['darkturquoise', 'silver', 'gold', 'gray'])\n",
    "plt.title('Credit Limit Averages by Credit Category')\n",
    "plt.ylabel('Credit Limit')\n",
    "plt.xlabel('Card Category');"
   ]
  },
  {
   "cell_type": "markdown",
   "metadata": {
    "hidden": true
   },
   "source": [
    "With this barplot of seaborn, that computes the average of the credit limit based on card category, we can see that platinum and gold have the most credit limit on average, with blue having the worst."
   ]
  },
  {
   "cell_type": "markdown",
   "metadata": {
    "heading_collapsed": true
   },
   "source": [
    "#### <font color = blue>Q2: Can we find and visualize correlations in this data?</font>"
   ]
  },
  {
   "cell_type": "markdown",
   "metadata": {
    "hidden": true
   },
   "source": [
    "https://pandas.pydata.org/docs/reference/api/pandas.DataFrame.corr.html"
   ]
  },
  {
   "cell_type": "markdown",
   "metadata": {
    "hidden": true
   },
   "source": [
    "We will utilize the pandas `corr` method to search for correlations in the numerical data."
   ]
  },
  {
   "cell_type": "code",
   "execution_count": 82,
   "metadata": {
    "hidden": true
   },
   "outputs": [
    {
     "data": {
      "text/html": [
       "<div>\n",
       "<style scoped>\n",
       "    .dataframe tbody tr th:only-of-type {\n",
       "        vertical-align: middle;\n",
       "    }\n",
       "\n",
       "    .dataframe tbody tr th {\n",
       "        vertical-align: top;\n",
       "    }\n",
       "\n",
       "    .dataframe thead th {\n",
       "        text-align: right;\n",
       "    }\n",
       "</style>\n",
       "<table border=\"1\" class=\"dataframe\">\n",
       "  <thead>\n",
       "    <tr style=\"text-align: right;\">\n",
       "      <th></th>\n",
       "      <th>Customer_Age</th>\n",
       "      <th>Dependent_count</th>\n",
       "      <th>Months_on_book</th>\n",
       "      <th>Credit_Limit</th>\n",
       "    </tr>\n",
       "  </thead>\n",
       "  <tbody>\n",
       "    <tr>\n",
       "      <th>Customer_Age</th>\n",
       "      <td>1.0000</td>\n",
       "      <td>-0.1223</td>\n",
       "      <td>0.7889</td>\n",
       "      <td>0.0025</td>\n",
       "    </tr>\n",
       "    <tr>\n",
       "      <th>Dependent_count</th>\n",
       "      <td>-0.1223</td>\n",
       "      <td>1.0000</td>\n",
       "      <td>-0.1031</td>\n",
       "      <td>0.0681</td>\n",
       "    </tr>\n",
       "    <tr>\n",
       "      <th>Months_on_book</th>\n",
       "      <td>0.7889</td>\n",
       "      <td>-0.1031</td>\n",
       "      <td>1.0000</td>\n",
       "      <td>0.0075</td>\n",
       "    </tr>\n",
       "    <tr>\n",
       "      <th>Credit_Limit</th>\n",
       "      <td>0.0025</td>\n",
       "      <td>0.0681</td>\n",
       "      <td>0.0075</td>\n",
       "      <td>1.0000</td>\n",
       "    </tr>\n",
       "  </tbody>\n",
       "</table>\n",
       "</div>"
      ],
      "text/plain": [
       "                 Customer_Age  Dependent_count  Months_on_book  Credit_Limit\n",
       "Customer_Age           1.0000          -0.1223          0.7889        0.0025\n",
       "Dependent_count       -0.1223           1.0000         -0.1031        0.0681\n",
       "Months_on_book         0.7889          -0.1031          1.0000        0.0075\n",
       "Credit_Limit           0.0025           0.0681          0.0075        1.0000"
      ]
     },
     "execution_count": 82,
     "metadata": {},
     "output_type": "execute_result"
    }
   ],
   "source": [
    "customers_df.corr().round(4)"
   ]
  },
  {
   "cell_type": "markdown",
   "metadata": {
    "hidden": true
   },
   "source": [
    "The strongest correlation here seems to be between `Customer Age` and `Months on Book`. Let's create a scatterplot to visualize it."
   ]
  },
  {
   "cell_type": "code",
   "execution_count": 50,
   "metadata": {
    "hidden": true,
    "scrolled": false
   },
   "outputs": [
    {
     "data": {
      "image/png": "[encoded data removed]",
      "text/plain": [
       "<Figure size 432x288 with 1 Axes>"
      ]
     },
     "metadata": {
      "needs_background": "light"
     },
     "output_type": "display_data"
    }
   ],
   "source": [
    "ax = sns.scatterplot(data = customers_df, x = 'Customer_Age', y = 'Months_on_book')\n",
    "plt.title('Correlation between Customer Age and Months on Book');"
   ]
  },
  {
   "cell_type": "markdown",
   "metadata": {
    "hidden": true
   },
   "source": [
    "The months on book variable doesn't seems to follow a normal distribution. We will use jointplot of Linear Regression to see the scatterplot + the histogram of the two columns of our data."
   ]
  },
  {
   "cell_type": "code",
   "execution_count": 116,
   "metadata": {
    "hidden": true
   },
   "outputs": [
    {
     "data": {
      "image/png": "[encoded data removed]",
      "text/plain": [
       "<Figure size 576x576 with 3 Axes>"
      ]
     },
     "metadata": {
      "needs_background": "light"
     },
     "output_type": "display_data"
    }
   ],
   "source": [
    "sns.reset_orig()\n",
    "ax = sns.jointplot(data=customers_df, x='Customer_Age', y='Months_on_book', kind='reg', height=8)\n",
    "ax.fig.suptitle('Dispersion - Months on Book X Customer Age', fontsize=18, y=1.05)\n",
    "ax.set_axis_labels('Customer Age', 'Months on Book', fontsize=14);"
   ]
  },
  {
   "cell_type": "markdown",
   "metadata": {
    "hidden": true
   },
   "source": [
    "There is a high peak in between 30 and 40, with value counts we can see it more clearly."
   ]
  },
  {
   "cell_type": "code",
   "execution_count": 65,
   "metadata": {
    "hidden": true
   },
   "outputs": [
    {
     "data": {
      "text/plain": [
       "36    2463\n",
       "37     358\n",
       "34     353\n",
       "38     347\n",
       "39     341\n",
       "Name: Months_on_book, dtype: int64"
      ]
     },
     "execution_count": 65,
     "metadata": {},
     "output_type": "execute_result"
    }
   ],
   "source": [
    "customers_df.Months_on_book.value_counts().head(5)"
   ]
  },
  {
   "cell_type": "markdown",
   "metadata": {
    "hidden": true
   },
   "source": [
    "There is a disproportional amount of customers in the 36 months of this dataset, so it weakens the correlation."
   ]
  },
  {
   "cell_type": "markdown",
   "metadata": {
    "heading_collapsed": true
   },
   "source": [
    "#### <font color = blue>Q3: Who are the customers with the highest credit limit with age below 30 years?</font>"
   ]
  },
  {
   "cell_type": "code",
   "execution_count": 54,
   "metadata": {
    "hidden": true
   },
   "outputs": [
    {
     "data": {
      "text/plain": [
       "34516.0"
      ]
     },
     "execution_count": 54,
     "metadata": {},
     "output_type": "execute_result"
    }
   ],
   "source": [
    "customers_df[customers_df.Customer_Age < 30].Credit_Limit.max()"
   ]
  },
  {
   "cell_type": "code",
   "execution_count": 64,
   "metadata": {
    "hidden": true
   },
   "outputs": [
    {
     "data": {
      "text/plain": [
       "34516.0"
      ]
     },
     "execution_count": 64,
     "metadata": {},
     "output_type": "execute_result"
    }
   ],
   "source": [
    "customers_df.Credit_Limit.max()"
   ]
  },
  {
   "cell_type": "code",
   "execution_count": 83,
   "metadata": {
    "hidden": true,
    "scrolled": false
   },
   "outputs": [
    {
     "data": {
      "text/html": [
       "<div>\n",
       "<style scoped>\n",
       "    .dataframe tbody tr th:only-of-type {\n",
       "        vertical-align: middle;\n",
       "    }\n",
       "\n",
       "    .dataframe tbody tr th {\n",
       "        vertical-align: top;\n",
       "    }\n",
       "\n",
       "    .dataframe thead th {\n",
       "        text-align: right;\n",
       "    }\n",
       "</style>\n",
       "<table border=\"1\" class=\"dataframe\">\n",
       "  <thead>\n",
       "    <tr style=\"text-align: right;\">\n",
       "      <th></th>\n",
       "      <th>Customer_Age</th>\n",
       "      <th>Gender</th>\n",
       "      <th>Dependent_count</th>\n",
       "      <th>Education_Level</th>\n",
       "      <th>Marital_Status</th>\n",
       "      <th>Income_Category</th>\n",
       "      <th>Card_Category</th>\n",
       "      <th>Months_on_book</th>\n",
       "      <th>Credit_Limit</th>\n",
       "    </tr>\n",
       "  </thead>\n",
       "  <tbody>\n",
       "    <tr>\n",
       "      <th>3657</th>\n",
       "      <td>29</td>\n",
       "      <td>F</td>\n",
       "      <td>0</td>\n",
       "      <td>Post-Graduate</td>\n",
       "      <td>Single</td>\n",
       "      <td>NaN</td>\n",
       "      <td>Gold</td>\n",
       "      <td>36</td>\n",
       "      <td>34516.0</td>\n",
       "    </tr>\n",
       "    <tr>\n",
       "      <th>8411</th>\n",
       "      <td>26</td>\n",
       "      <td>F</td>\n",
       "      <td>0</td>\n",
       "      <td>Uneducated</td>\n",
       "      <td>NaN</td>\n",
       "      <td>NaN</td>\n",
       "      <td>Silver</td>\n",
       "      <td>13</td>\n",
       "      <td>34516.0</td>\n",
       "    </tr>\n",
       "    <tr>\n",
       "      <th>9295</th>\n",
       "      <td>27</td>\n",
       "      <td>M</td>\n",
       "      <td>0</td>\n",
       "      <td>College</td>\n",
       "      <td>NaN</td>\n",
       "      <td>$80K - $120K</td>\n",
       "      <td>Silver</td>\n",
       "      <td>19</td>\n",
       "      <td>34516.0</td>\n",
       "    </tr>\n",
       "    <tr>\n",
       "      <th>9494</th>\n",
       "      <td>29</td>\n",
       "      <td>M</td>\n",
       "      <td>1</td>\n",
       "      <td>Graduate</td>\n",
       "      <td>Married</td>\n",
       "      <td>$80K - $120K</td>\n",
       "      <td>Silver</td>\n",
       "      <td>36</td>\n",
       "      <td>34516.0</td>\n",
       "    </tr>\n",
       "  </tbody>\n",
       "</table>\n",
       "</div>"
      ],
      "text/plain": [
       "      Customer_Age Gender  Dependent_count Education_Level Marital_Status  \\\n",
       "3657            29      F                0   Post-Graduate         Single   \n",
       "8411            26      F                0      Uneducated            NaN   \n",
       "9295            27      M                0         College            NaN   \n",
       "9494            29      M                1        Graduate        Married   \n",
       "\n",
       "     Income_Category Card_Category  Months_on_book  Credit_Limit  \n",
       "3657             NaN          Gold              36       34516.0  \n",
       "8411             NaN        Silver              13       34516.0  \n",
       "9295    $80K - $120K        Silver              19       34516.0  \n",
       "9494    $80K - $120K        Silver              36       34516.0  "
      ]
     },
     "execution_count": 83,
     "metadata": {},
     "output_type": "execute_result"
    }
   ],
   "source": [
    "customers_df.query('Customer_Age < 30 & Credit_Limit == 34516')"
   ]
  },
  {
   "cell_type": "markdown",
   "metadata": {
    "hidden": true
   },
   "source": [
    "We have 4 customers that have the highest limit available."
   ]
  },
  {
   "cell_type": "markdown",
   "metadata": {
    "heading_collapsed": true
   },
   "source": [
    "#### <font color = blue>Q4: How the customers age group changes the education level?</font>"
   ]
  },
  {
   "cell_type": "markdown",
   "metadata": {
    "hidden": true
   },
   "source": [
    "We will start by getting the numbers to create our AgeGroup column."
   ]
  },
  {
   "cell_type": "code",
   "execution_count": 13,
   "metadata": {
    "hidden": true
   },
   "outputs": [
    {
     "data": {
      "text/plain": [
       "count    10127.000000\n",
       "mean        46.325960\n",
       "std          8.016814\n",
       "min         26.000000\n",
       "25%         41.000000\n",
       "50%         46.000000\n",
       "75%         52.000000\n",
       "max         73.000000\n",
       "Name: Customer_Age, dtype: float64"
      ]
     },
     "execution_count": 13,
     "metadata": {},
     "output_type": "execute_result"
    }
   ],
   "source": [
    "customers_df.Customer_Age.describe()"
   ]
  },
  {
   "cell_type": "markdown",
   "metadata": {
    "hidden": true
   },
   "source": [
    "To get `Age Groups` we have to create the labels and ranges, that will be applied with the pandas method `cut` based on the values in `Customer_Age`."
   ]
  },
  {
   "cell_type": "code",
   "execution_count": 16,
   "metadata": {
    "hidden": true
   },
   "outputs": [],
   "source": [
    "age_labels = ['26 - 35 years', '35 - 50 years', '50 - 65 years', '65 - 73 years']\n",
    "age_bins = [26, 35, 50, 65, 73]"
   ]
  },
  {
   "cell_type": "code",
   "execution_count": 17,
   "metadata": {
    "hidden": true
   },
   "outputs": [],
   "source": [
    "customers_df['AgeGroup'] = pd.cut(customers_df['Customer_Age'], bins = age_bins, labels = age_labels, include_lowest = True)"
   ]
  },
  {
   "cell_type": "code",
   "execution_count": 18,
   "metadata": {
    "hidden": true
   },
   "outputs": [
    {
     "data": {
      "text/plain": [
       "35 - 50 years    6130\n",
       "50 - 65 years    3068\n",
       "26 - 35 years     919\n",
       "65 - 73 years      10\n",
       "Name: AgeGroup, dtype: int64"
      ]
     },
     "execution_count": 18,
     "metadata": {},
     "output_type": "execute_result"
    }
   ],
   "source": [
    "customers_df['AgeGroup'].value_counts()"
   ]
  },
  {
   "cell_type": "markdown",
   "metadata": {
    "hidden": true
   },
   "source": [
    "Now we will plot this relationship between Customers Schooling and Customers Age Groups."
   ]
  },
  {
   "cell_type": "code",
   "execution_count": 114,
   "metadata": {
    "hidden": true
   },
   "outputs": [
    {
     "data": {
      "image/png": "[encoded data removed]",
      "text/plain": [
       "<Figure size 1080x360 with 1 Axes>"
      ]
     },
     "metadata": {},
     "output_type": "display_data"
    }
   ],
   "source": [
    "fig = plt.figure(figsize=(15, 5))\n",
    "ax = sns.countplot(data=customers_df,\n",
    "                   x=\"Education_Level\", \n",
    "                   hue='AgeGroup', \n",
    "                   palette='rocket', \n",
    "                   dodge=False, \n",
    "                   order=order_education,\n",
    "                   hue_order = age_labels\n",
    "                   )\n",
    "ax.set(xlabel=\"Customers Schooling\", ylabel='Customers Count')\n",
    "ax.set_title('Customers Education Level by Age Groups')\n",
    "bottoms = {}\n",
    "for bars in ax.containers:\n",
    "    for bar in bars:\n",
    "        x, y = bar.get_xy()\n",
    "        h = bar.get_height()\n",
    "        if x in bottoms:\n",
    "            bar.set_y(bottoms[x])\n",
    "            bottoms[x] += h\n",
    "        else:\n",
    "            bottoms[x] = h\n",
    "ax.relim()\n",
    "ax.autoscale()"
   ]
  },
  {
   "cell_type": "markdown",
   "metadata": {
    "hidden": true
   },
   "source": [
    "In the stacked bar plot we compare only the same colors with each other. We have the `Graduate` being the most frequent Schooling for the first three `Age Groups`, with only having 10 people in the last one we can't properly visualize it. `High school` is the second most frequent in our data and it's rare for people with `26 - 35 years` having `Doctorate` in our data set."
   ]
  },
  {
   "cell_type": "markdown",
   "metadata": {},
   "source": [
    "## <font color=blue>Inferences and Conclusion</font>\n",
    "***"
   ]
  },
  {
   "cell_type": "markdown",
   "metadata": {},
   "source": [
    "In the project we have analyzed the customers data and got a glimpse on the dataset. Here is the summary of some inferences:\n",
    "\n",
    "- The customers age ranges from `26 to 73 years`, with the ages between `40 and 55 years` being the most frequent in our data.\n",
    "\n",
    "- We have more `Female` customers than `Male` ones.\n",
    "\n",
    "- It is more frequent the credit card clients having `2 or 3 dependents`.\n",
    "\n",
    "- The probability of a customer being a Graduate is higher than other `Education Level`.\n",
    "\n",
    "- We have more married customers.\n",
    "\n",
    "- The majority of our customers have an `Income Category` of `Less than 40K`, where even though we have more Female customers, the income of those is tied to `Less than 40K` and between `40K - 60K`.\n",
    "\n",
    "- `Blue` is the `Card Category` with the most number of customers, so maybe it's a good time to look in more detail the benefits of each card type to try to get more clients interested in the other categories.\n",
    "\n",
    "- We have more data on customers with 36 `Months on book`, that weakens our correlation analysis with `Customers Age`.\n",
    "\n",
    "- `Credit limits` between `1438.3K and 5000K` are more frequent. Also, we have 4 customers that have less than 30 years that have the highest limit, being `34516.0K`.\n",
    "\n",
    "\n",
    "\n",
    "We could observe in our analysis a quick view of our customers, obtaining distribution information like `Age, General Marital Status, Income, and others`. With the data of our customers being available, it is necessary to correctly analyze key points that can be positive turning points to our company. The market is more and more competitive and it is important to measure correctly our data, to be able to plan for the future."
   ]
  },
  {
   "cell_type": "markdown",
   "metadata": {
    "heading_collapsed": true
   },
   "source": [
    "## <font color=blue>References and Future Work</font>\n",
    "***"
   ]
  },
  {
   "cell_type": "markdown",
   "metadata": {
    "hidden": true
   },
   "source": [
    "The follow tools and resources were used in the project:"
   ]
  },
  {
   "cell_type": "markdown",
   "metadata": {
    "hidden": true
   },
   "source": [
    "Credit Card Customers Dataset - https://www.kaggle.com/datasets/sakshigoyal7/credit-card-customers <br/>\n",
    "Data Analysis with Python: Zero to Pandas - https://jovian.com/learn/data-analysis-with-python-zero-to-pandas <br/>\n",
    "Numpy - https://numpy.org/ <br/>\n",
    "Matplotlib - https://matplotlib.org/ <br/>\n",
    "Matplotlib Histogram - https://matplotlib.org/stable/gallery/statistics/hist.html <br/>\n",
    "Pandas - https://pandas.pydata.org/ <br/>\n",
    "Seaborn - https://seaborn.pydata.org/ <br/>\n",
    "Stacked barchart reading - https://www.storytellingwithdata.com/blog/stacked-bars <br/>\n",
    "Stacked Seaborn countplot - https://stackoverflow.com/questions/67113579/make-a-stacked-bar-plot-from-seaborn-to-matplotlib <br/>\n",
    "\n",
    "\n",
    "As future work we can make iterations in the process already made in this project, do more inferences about our full dataset, exploring other aspects of the data, and also use it to work on the original intentions of the dataset origin, that is to make a model to predict churning customers."
   ]
  }
 ],
 "metadata": {
  "kernelspec": {
   "display_name": "Python 3 (ipykernel)",
   "language": "python",
   "name": "python3"
  },
  "language_info": {
   "codemirror_mode": {
    "name": "ipython",
    "version": 3
   },
   "file_extension": ".py",
   "mimetype": "text/x-python",
   "name": "python",
   "nbconvert_exporter": "python",
   "pygments_lexer": "ipython3",
   "version": "3.9.7"
  }
 },
 "nbformat": 4,
 "nbformat_minor": 4
}
